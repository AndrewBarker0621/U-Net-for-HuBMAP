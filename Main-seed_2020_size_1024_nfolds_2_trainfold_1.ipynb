{
 "cells": [
  {
   "cell_type": "markdown",
   "metadata": {
    "id": "e5KwtT7PHhBn",
    "papermill": {
     "duration": 0.011984,
     "end_time": "2021-03-11T18:12:50.627613",
     "exception": false,
     "start_time": "2021-03-11T18:12:50.615629",
     "status": "completed"
    },
    "tags": []
   },
   "source": [
    "# Description\n",
    "\n",
    "- the Human Biomolecular Mapping Project (HuBMAP) Competition. The goal of this challenge is to segment the glomerular region in images of human kidney tissue from different tissue preparation pipelines.\n",
    "- A glomerulus is a functional tissue unit (FTU): a three-dimensional block of cells centered on capillaries. That case, each cell in the block is within diffusion distance of any other cell in the same block.\n",
    "- The data presented include 11 fresh-frozen and 9 formalin-fixed paraffin-embedded (FFPE) PAS kidney images: 8 sequences, 5+7 trials. They are each ~50k pixels in size and are saved as high resolution *tiff* images.\n",
    "- In order to make such large images suitable for neural network training, they must be [sliced] (plz refer to the other code package). Depending on the size of the detected features, I would expect that the appropriate size of this data should be 1024x1024. However, for beginner's code and initial model development, this would be a challenge. Therefore, this kernel uses a 4 times lower resolution tile with 256x256 size. We can also run a higher resolution tile on the final setup (in preliminary tests it provided a 0.002-0.003 CV boost).\n",
    "- In this kernel, an introductory code for *fast.ai* based on U-shaped networks (unset50, known as U-Net) is provided by me while some tips from previous segmentation contests are shared."
   ]
  },
  {
   "cell_type": "markdown",
   "metadata": {
    "id": "F3PSgMS1FIIg"
   },
   "source": [
    "## Check if the corresponding folder already exists, e.g. 256size\n",
    "- temp/hubmap-256x256/train/\n",
    "- temp/hubmap-256x256/mask/"
   ]
  },
  {
   "cell_type": "code",
   "execution_count": 1,
   "metadata": {
    "id": "6zw8ubLkKccb"
   },
   "outputs": [],
   "source": [
    "################################## \n",
    "DEBUG = True  # Debugging mode\n",
    "SEED = 2020   # Set random seeds to keep the random number of experiments constant and make the experiment repeatable\n",
    "\n",
    "NFOLDS = 5 # Fold number in non-debug time\n",
    "TRAINED_FOLD = 0 # The number of folds already trained. Default is 0 fold.\n",
    "### -------------------- ###\n",
    "KAGGLE = False\n",
    "COLAB = False\n",
    "UNZIP = False\n",
    "### -------------------- ###\n",
    "sz = 256   # Set image size as 256,512,1024\n",
    "bs = 4      # Set the batch size for a single input to the computer\n",
    "# import os\n",
    "# os.environ[\"CUDA_VISIBLE_DEVICES\"] = \"0,1,2\"   # Displayable GPU\n",
    "import torch\n",
    "#device_ids = [0,1,2] # Available GPU\n",
    "device = torch.device(\"cuda:0\" if torch.cuda.is_available() else \"cpu\")"
   ]
  },
  {
   "cell_type": "code",
   "execution_count": 2,
   "metadata": {
    "id": "abuJTNbpKl1r"
   },
   "outputs": [],
   "source": [
    "# Mutually exclusive\n",
    "if KAGGLE:\n",
    "    COLAB = False\n",
    "    UNZIP = False\n",
    "### -------------------- ###"
   ]
  },
  {
   "cell_type": "code",
   "execution_count": 1,
   "metadata": {
    "colab": {
     "base_uri": "https://localhost:8080/"
    },
    "id": "vlTl9mJ9JUra",
    "outputId": "bd449093-c02d-4740-e179-7dae0efcc49e"
   },
   "outputs": [
    {
     "data": {
      "text/plain": [
       "\"\\nif COLAB:\\n    # !pip3 install git+https://github.com/fastai/fastai.git\\n    # Mount a colab drive\\n    from google.colab import drive\\n    drive.mount('/content/drive')\\n    # Switching the working directory\\n    OS_DIR = '/content/drive/MyDrive/Kaggle/HuBMAP/code'\\n    import os\\n    os.chdir(OS_DIR)\\n    ## Run the lovasz script\\n    !python lovasz.py\\n\""
      ]
     },
     "execution_count": 1,
     "metadata": {},
     "output_type": "execute_result"
    }
   ],
   "source": [
    "# ### -------------------- ###\n",
    "# COLAB = True\n",
    "# UNZIP = False\n",
    "# ### -------------------- ###\n",
    "\"\"\"\n",
    "if COLAB:\n",
    "    # !pip3 install git+https://github.com/fastai/fastai.git\n",
    "    # Mount a colab drive\n",
    "    from google.colab import drive\n",
    "    drive.mount('/content/drive')\n",
    "    # Switching the working directory\n",
    "    OS_DIR = '/content/drive/MyDrive/Kaggle/HuBMAP/code'\n",
    "    import os\n",
    "    os.chdir(OS_DIR)\n",
    "    ## Run the lovasz script\n",
    "    !python lovasz.py\n",
    "\"\"\""
   ]
  },
  {
   "cell_type": "code",
   "execution_count": 4,
   "metadata": {
    "id": "BkNmkLS-Plxf"
   },
   "outputs": [],
   "source": [
    "# # Create a folder to decompress images\n",
    "# if COLAB & UNZIP:    \n",
    "#     !mkdir ../temp/hubmap-256x256/train\n",
    "#     !mkdir ../temp/hubmap-256x256/masks\n",
    "#     !unzip  -d ../temp/hubmap-256x256/masks '../temp/hubmap-256x256/masks.zip'\n",
    "#     !unzip  -d ../temp/hubmap-256x256/train '../temp/hubmap-256x256/train.zip'"
   ]
  },
  {
   "cell_type": "code",
   "execution_count": 5,
   "metadata": {
    "_cell_guid": "b1076dfc-b9ad-4769-8c92-a6c4dae69d19",
    "_kg_hide-input": true,
    "_uuid": "8f2839f25d086af736a60e9eeb907d3b93b6e0e5",
    "execution": {
     "iopub.execute_input": "2021-03-11T18:12:50.665246Z",
     "iopub.status.busy": "2021-03-11T18:12:50.664597Z",
     "iopub.status.idle": "2021-03-11T18:12:54.194998Z",
     "shell.execute_reply": "2021-03-11T18:12:54.194411Z"
    },
    "id": "p2mth_LqHhBt",
    "papermill": {
     "duration": 3.556569,
     "end_time": "2021-03-11T18:12:54.195121",
     "exception": false,
     "start_time": "2021-03-11T18:12:50.638552",
     "status": "completed"
    },
    "tags": []
   },
   "outputs": [],
   "source": [
    "%reload_ext autoreload\n",
    "%autoreload 2\n",
    "%matplotlib inline\n",
    "# 导入包\n",
    "from fastai.vision.all import *\n",
    "from torch.utils.data import Dataset, DataLoader\n",
    "import pandas as pd\n",
    "import numpy as np\n",
    "import os\n",
    "import cv2\n",
    "import gc\n",
    "import random\n",
    "from albumentations import *\n",
    "from sklearn.model_selection import KFold\n",
    "import matplotlib.pyplot as plt\n",
    "from lovasz import lovasz_hinge\n",
    "#忽略警告\n",
    "import warnings\n",
    "warnings.filterwarnings(\"ignore\")"
   ]
  },
  {
   "cell_type": "code",
   "execution_count": 6,
   "metadata": {
    "execution": {
     "iopub.execute_input": "2021-03-11T18:12:54.221660Z",
     "iopub.status.busy": "2021-03-11T18:12:54.220861Z",
     "iopub.status.idle": "2021-03-11T18:12:54.252041Z",
     "shell.execute_reply": "2021-03-11T18:12:54.251622Z"
    },
    "id": "RKbxOyWmHhBu",
    "papermill": {
     "duration": 0.045568,
     "end_time": "2021-03-11T18:12:54.252135",
     "exception": false,
     "start_time": "2021-03-11T18:12:54.206567",
     "status": "completed"
    },
    "tags": []
   },
   "outputs": [],
   "source": [
    "# bs = 64\n",
    "# nfolds = 4 # raw\n",
    "# nfolds = 2 # First try to train 2 folds\n",
    "# fold = 0\n",
    "# SEED = 2020\n",
    "# TRAIN = '../input/hubmap-256x256/train/' if not COLAB else '../temp/hubmap-256x256/train/'\n",
    "# MASKS = '../input/hubmap-256x256/masks/' if not COLAB else '../temp/hubmap-256x256/masks/'\n",
    "# LABELS = '../input/hubmap-kidney-segmentation/train.csv'\n",
    "# NUM_WORKERS = 4"
   ]
  },
  {
   "cell_type": "code",
   "execution_count": 7,
   "metadata": {
    "colab": {
     "base_uri": "https://localhost:8080/"
    },
    "id": "1pYT9PTDFxp4",
    "outputId": "ec738f56-77b0-4b8f-fe6c-dc5c26925f34"
   },
   "outputs": [
    {
     "name": "stdout",
     "output_type": "stream",
     "text": [
      "model_base_name: seed_2020_size_256_nfolds_2_trainfold_1_, batch_size: 4\n"
     ]
    }
   ],
   "source": [
    "# bs = 64 # raw\n",
    "# bs = 26 # bs32 size512 out of memory \n",
    "# nfolds = 4 # raw\n",
    "nfolds = 2 if DEBUG else NFOLDS # First try to train 2 folds\n",
    "train_fold = 1 if DEBUG else nfolds\n",
    "\n",
    "fold = 0\n",
    "# SEED = 2020\n",
    "TRAIN = f'../input/hubmap-{sz}x{sz}/train/' if KAGGLE else f'../temp/hubmap-{sz}x{sz}/train/' # Set the address for reading data from the training image\n",
    "MASKS = f'../input/hubmap-{sz}x{sz}/masks/' if KAGGLE else f'../temp/hubmap-{sz}x{sz}/masks/' # Set the address to read the data in the masked image\n",
    "LABELS = '../input/hubmap-kidney-segmentation/train.csv'       #Set the read address of the tag\n",
    "NUM_WORKERS = 4  # Number of workers created at once\n",
    "\n",
    "model_base_name = f'seed_{SEED}_size_{sz}_nfolds_{nfolds}_trainfold_{train_fold}_'  # Name the saved model, the name is determined by the main parameters\n",
    "print(f'model_base_name: {model_base_name}, batch_size: {bs}')\n"
   ]
  },
  {
   "cell_type": "code",
   "execution_count": 8,
   "metadata": {
    "_kg_hide-input": true,
    "execution": {
     "iopub.execute_input": "2021-03-11T18:12:54.279108Z",
     "iopub.status.busy": "2021-03-11T18:12:54.278314Z",
     "iopub.status.idle": "2021-03-11T18:12:54.308896Z",
     "shell.execute_reply": "2021-03-11T18:12:54.308445Z"
    },
    "id": "A0lLxGamHhBu",
    "papermill": {
     "duration": 0.04608,
     "end_time": "2021-03-11T18:12:54.308988",
     "exception": false,
     "start_time": "2021-03-11T18:12:54.262908",
     "status": "completed"
    },
    "tags": []
   },
   "outputs": [],
   "source": [
    "#设置随机数\n",
    "def seed_everything(seed):\n",
    "    random.seed(seed) \n",
    "    # A random seed (or seed state, or just a seed) is a number (or vector) that is used to initialize a pseudo-random number generator.\n",
    "    os.environ['PYTHONHASHSEED'] = str(seed) # Make experiments produce reproducible results\n",
    "    np.random.seed(seed) # Get the maximum random number per run\n",
    "    torch.manual_seed(seed) # Set the seed for generating random numbers\n",
    "    torch.cuda.manual_seed(seed) # Set the seed for the current GPU to generate random numbers\n",
    "    torch.backends.cudnn.deterministic = True # Make experiments produce reproducible results\n",
    "    # the following line gives ~10% speedup\n",
    "    # but may lead to some stochasticity in the results \n",
    "    torch.backends.cudnn.benchmark = True\n",
    "    \n",
    "seed_everything(SEED)"
   ]
  },
  {
   "cell_type": "markdown",
   "metadata": {
    "id": "DCHVzELoHhBu",
    "papermill": {
     "duration": 0.010988,
     "end_time": "2021-03-11T18:12:54.330833",
     "exception": false,
     "start_time": "2021-03-11T18:12:54.319845",
     "status": "completed"
    },
    "tags": []
   },
   "source": [
    "# Data\n",
    "One important thing here is the train/val split. To avoid possible leaks resulted by a similarity of tiles from the same images, it is better to keep tiles from each image together in train or in test.\n"
   ]
  },
  {
   "cell_type": "code",
   "execution_count": 9,
   "metadata": {
    "id": "xC32auUVFnfM"
   },
   "outputs": [],
   "source": [
    "# Set the mean and variance for different image size conditions\n",
    "if sz==256:\n",
    "    mean = np.array([0.65459856,0.48386562,0.69428385])\n",
    "    std = np.array([0.15167958,0.23584107,0.13146145])\n",
    "elif sz==512:\n",
    "    mean = np.array([0.63759809, 0.4716141, 0.68231112])\n",
    "    std = np.array([0.16475244, 0.22850685, 0.14593643])    \n",
    "    # mean: [0.63759809 0.4716141  0.68231112] , std: [0.16475244 0.22850685 0.14593643]    \n",
    "elif sz==1024:\n",
    "    ### ------------- 1024 -------------\n",
    "    mean = np.array([0.63711163, 0.47114376, 0.68181989])\n",
    "    std = np.array([0.16736293, 0.23051024, 0.14848679])"
   ]
  },
  {
   "cell_type": "code",
   "execution_count": 10,
   "metadata": {
    "execution": {
     "iopub.execute_input": "2021-03-11T18:12:54.375823Z",
     "iopub.status.busy": "2021-03-11T18:12:54.375004Z",
     "iopub.status.idle": "2021-03-11T18:12:54.409688Z",
     "shell.execute_reply": "2021-03-11T18:12:54.409253Z"
    },
    "id": "SXGA5R36HhBu",
    "papermill": {
     "duration": 0.057765,
     "end_time": "2021-03-11T18:12:54.409780",
     "exception": false,
     "start_time": "2021-03-11T18:12:54.352015",
     "status": "completed"
    },
    "tags": []
   },
   "outputs": [],
   "source": [
    "# # https://www.kaggle.com/iafoss/256x256-images\n",
    "# mean = np.array([0.65459856,0.48386562,0.69428385])\n",
    "# std = np.array([0.15167958,0.23584107,0.13146145])\n",
    "# Convert image data to tensor\n",
    "def img2tensor(img,dtype:np.dtype=np.float32):\n",
    "    if img.ndim==2 : img = np.expand_dims(img,2)\n",
    "    img = np.transpose(img,(2,0,1)) # Transpose the given image data\n",
    "    return torch.from_numpy(img.astype(dtype, copy=False)) # Return the type of img\n",
    "\n",
    "# Processing of data sets\n",
    "class HuBMAPDataset(Dataset):\n",
    "    def __init__(self, fold=fold, train=True, tfms=None):\n",
    "        ids = pd.read_csv(LABELS).id.values   # Read labels from images\n",
    "        kf = KFold(n_splits=nfolds,random_state=SEED,shuffle=True) # Multi-fold training of the data with NFOLD folds\n",
    "        ids = set(ids[list(kf.split(ids))[fold][0 if train else 1]])\n",
    "        self.fnames = [fname for fname in os.listdir(TRAIN) if fname.split('_')[0] in ids] # Read the name of the training file\n",
    "        self.train = train\n",
    "        self.tfms = tfms\n",
    "        \n",
    "    def __len__(self):\n",
    "        return len(self.fnames)\n",
    "    \n",
    "    def __getitem__(self, idx):\n",
    "        fname = self.fnames[idx]\n",
    "        img = cv2.cvtColor(cv2.imread(os.path.join(TRAIN,fname)), cv2.COLOR_BGR2RGB) # Convert images from BGR color space to RGB color space\n",
    "        mask = cv2.imread(os.path.join(MASKS,fname),cv2.IMREAD_GRAYSCALE) # Reads an masked image as a grayscale image\n",
    "        if self.tfms is not None:\n",
    "            augmented = self.tfms(image=img,mask=mask)  # For image enhancement\n",
    "            img,mask = augmented['image'],augmented['mask'] # Get enhanced training\n",
    "        return img2tensor((img/255.0 - mean)/std),img2tensor(mask) # Return the normalized tensor\n",
    "    \n",
    "def get_aug(p=1.0):\n",
    "    return Compose([\n",
    "        HorizontalFlip(),   # Horizontal flip\n",
    "        VerticalFlip(),     # Vertical flip\n",
    "        RandomRotate90(),   # Randomly flip 90 degrees several times\n",
    "        \n",
    "        # Scale and rotate images at an angle\n",
    "        ShiftScaleRotate(shift_limit=0.0625, scale_limit=0.2, rotate_limit=15, p=0.9, \n",
    "                         border_mode=cv2.BORDER_REFLECT),\n",
    "        OneOf([\n",
    "            OpticalDistortion(p=0.3), # Optical distortion\n",
    "            GridDistortion(p=.1),    # Mesh distortion\n",
    "            IAAPiecewiseAffine(p=0.3),\n",
    "        ], p=0.3),\n",
    "        OneOf([\n",
    "            HueSaturationValue(10,15,10), # Color saturation\n",
    "            CLAHE(clip_limit=2),\n",
    "            RandomBrightnessContrast(),  # Random brightness          \n",
    "        ], p=0.3),\n",
    "    ], p=p)"
   ]
  },
  {
   "cell_type": "code",
   "execution_count": 12,
   "metadata": {
    "colab": {
     "base_uri": "https://localhost:8080/",
     "height": 901
    },
    "execution": {
     "iopub.execute_input": "2021-03-11T18:12:54.438372Z",
     "iopub.status.busy": "2021-03-11T18:12:54.437604Z",
     "iopub.status.idle": "2021-03-11T18:13:07.001217Z",
     "shell.execute_reply": "2021-03-11T18:13:07.001659Z"
    },
    "id": "H406ne1bHhBv",
    "outputId": "5f151f40-950b-46be-f0dd-b7c728394b2f",
    "papermill": {
     "duration": 12.580982,
     "end_time": "2021-03-11T18:13:07.001785",
     "exception": false,
     "start_time": "2021-03-11T18:12:54.420803",
     "status": "completed"
    },
    "tags": []
   },
   "outputs": [
    {
     "data": {
      "image/png": "[encoded data removed]",
      "text/plain": [
       "<Figure size 1152x1152 with 4 Axes>"
      ]
     },
     "metadata": {
      "needs_background": "light"
     },
     "output_type": "display_data"
    }
   ],
   "source": [
    "# example of train images with masks\n",
    "# Examples of training images and masked images\n",
    "\n",
    "# ds is the data enhanced data\n",
    "ds = HuBMAPDataset(tfms=get_aug())\n",
    "# dl\n",
    "dl = DataLoader(ds,batch_size=bs ,shuffle=False,num_workers=NUM_WORKERS)\n",
    "# Import the next batch of data after processing\n",
    "imgs,masks = next(iter(dl))\n",
    "# Output of enhanced and masked glomerular images\n",
    "plt.figure(figsize=(16,16)) # Image size is 16*16\n",
    "for i,(img,mask) in enumerate(zip(imgs,masks)):\n",
    "    img = ((img.permute(1,2,0)*std + mean)*255.0).numpy().astype(np.uint8) # Standardize and convert the tensor to numpy format\n",
    "    plt.subplot(8,8,i+1)\n",
    "    plt.imshow(img,vmin=0,vmax=255) # Set the maximum and minimum values of image pixels\n",
    "    plt.imshow(mask.squeeze().numpy(), alpha=0.2) # Compressing the dimensionality of the image\n",
    "    plt.axis('off')\n",
    "    plt.subplots_adjust(wspace=None, hspace=None) # Image output adjustment\n",
    "    \n",
    "del ds,dl,imgs,masks"
   ]
  },
  {
   "cell_type": "markdown",
   "metadata": {
    "id": "EUq9wGA-HhBw",
    "papermill": {
     "duration": 0.041669,
     "end_time": "2021-03-11T18:13:07.084926",
     "exception": false,
     "start_time": "2021-03-11T18:13:07.043257",
     "status": "completed"
    },
    "tags": []
   },
   "source": [
    "# Model\n",
    "The model used in this kernel is based on a U-shape network (UneXt50, see image below), which I used in Severstal and Understanding Clouds competitions. The idea of a U-shape network is coming from a [Unet](https://arxiv.org/pdf/1505.04597.pdf) architecture proposed in 2015 for medical images: the encoder part creates a representation of features at different levels, while the decoder combines the features and generates a prediction as a segmentation mask. The skip connections between encoder and decoder allow us to utilize features from the intermediate conv layers of the encoder effectively, without a need for the information to go the full way through entire encoder and decoder. The latter is especially important to link the predicted mask to the specific pixels of the detected object. Later people realized that ImageNet pretrained computer vision models could drastically improve the quality of a segmentation model because of optimized architecture of the encoder, high encoder capacity (in contrast to one used in the original Unet), and the power of the transfer learning.\n",
    "\n",
    "There are several important things that must be added to a Unet network, however, to make it able to reach competitive results with current state of the art approaches. First, it is **Feature Pyramid Network (FPN)**: additional skip connection between different upscaling blocks of the decoder and the output layer. So, the final prediction is produced based on the concatenation of U-net output with resized outputs of the intermediate layers. These skip-connections provide a shortcut for gradient flow improving model performance and convergence speed. Since intermediate layers have many channels, their upscaling and use as an input for the final layer would introduce a significant overhead in terms of the computational time and memory. Therefore, 3x3+3x3 convolutions are applied (factorization) before the resize to reduce the number of channels.\n",
    "\n",
    "Another very important thing is the **Atrous Spatial Pyramid Pooling (ASPP) block** added between encoder and decoder. The flaw of the traditional U-shape networks is resulted by a small receptive field. Therefore, if a model needs to make a decision about a segmentation of a large object, especially for a large image resolution, it can get confused being able to look only into parts of the object. A way to increase the receptive field and enable interactions between different parts of the image is use of a block combining convolutions with different dilatations ([Atrous convolutions](https://arxiv.org/pdf/1606.00915.pdf) with various rates in ASPP block). While the original paper uses 6,12,18 rates, they may be customized for a particular task and a particular image resolution to maximize the performance. One more thing I added is using group convolutions in ASPP block to reduce the number of model parameters.\n",
    "\n",
    "Finally, the decoder upscaling blocks are based on [pixel shuffle](https://arxiv.org/pdf/1609.05158.pdf) rather than transposed convolution used in the first Unet models. It allows to avoid artifacts in the produced masks. And I use [semisupervised Imagenet pretrained ResNeXt50](https://github.com/facebookresearch/semi-supervised-ImageNet1K-models) model as a backbone. In Pytorch it provides the performance of EfficientNet B2-B3 with much faster convergence for the computational cost and GPU RAM requirements of EfficientNet B0 (though, in TF EfficientNet is highly optimized and may be a good thing to use)."
   ]
  },
  {
   "cell_type": "markdown",
   "metadata": {
    "id": "yHNGQCLUHhBz",
    "papermill": {
     "duration": 0.04012,
     "end_time": "2021-03-11T18:13:07.166112",
     "exception": false,
     "start_time": "2021-03-11T18:13:07.125992",
     "status": "completed"
    },
    "tags": []
   },
   "source": [
    "![](https://i.ibb.co/z5KxDzm/Une-Xt50-1.png)"
   ]
  },
  {
   "cell_type": "code",
   "execution_count": 13,
   "metadata": {
    "_kg_hide-input": true,
    "execution": {
     "iopub.execute_input": "2021-03-11T18:13:07.271804Z",
     "iopub.status.busy": "2021-03-11T18:13:07.270953Z",
     "iopub.status.idle": "2021-03-11T18:13:07.316909Z",
     "shell.execute_reply": "2021-03-11T18:13:07.316459Z"
    },
    "id": "JO_fFC3ZHhB1",
    "papermill": {
     "duration": 0.110724,
     "end_time": "2021-03-11T18:13:07.317006",
     "exception": false,
     "start_time": "2021-03-11T18:13:07.206282",
     "status": "completed"
    },
    "tags": []
   },
   "outputs": [],
   "source": [
    "# FPN-Create an FPN module\n",
    "class FPN(nn.Module):\n",
    "    def __init__(self, input_channels:list, output_channels:list):\n",
    "        super().__init__()\n",
    "        \n",
    "        # ModuleLists are containers, because we can add modules to them\n",
    "        self.convs = nn.ModuleList(\n",
    "            [nn.Sequential(nn.Conv2d(in_ch, out_ch*2, kernel_size=3, padding=1), # Convolution\n",
    "             nn.ReLU(inplace=True), nn.BatchNorm2d(out_ch*2),                    # Activation function, normalized\n",
    "             nn.Conv2d(out_ch*2, out_ch, kernel_size=3, padding=1))              # Convolution\n",
    "            for in_ch, out_ch in zip(input_channels, output_channels)])          # Set the number of input and output channels for each layer of the model\n",
    "        \n",
    "    def forward(self, xs:list, last_layer):\n",
    "        # Up-sampling\n",
    "        hcs = [F.interpolate(c(x),scale_factor=2**(len(self.convs)-i),mode='bilinear') # Up-sampling by bilinear interpolation\n",
    "               for i,(c,x) in enumerate(zip(self.convs, xs))] # Each layer in the enumeration model\n",
    "        hcs.append(last_layer) # Add the layers in sequence\n",
    "        return torch.cat(hcs, dim=1)\n",
    "\n",
    "# Create a U-Net module\n",
    "class UnetBlock(Module):\n",
    "    def __init__(self, up_in_c:int, x_in_c:int, nf:int=None, blur:bool=False,\n",
    "                 self_attention:bool=False, **kwargs):\n",
    "        super().__init__()\n",
    "        self.shuf = PixelShuffle_ICNR(up_in_c, up_in_c//2, blur=blur, **kwargs) # Super resolution\n",
    "        self.bn = nn.BatchNorm2d(x_in_c) # Normalization\n",
    "        ni = up_in_c//2 + x_in_c\n",
    "        nf = nf if nf is not None else max(up_in_c//2,32)\n",
    "        self.conv1 = ConvLayer(ni, nf, norm_type=None, **kwargs)  # Convolutional layer 1\n",
    "        self.conv2 = ConvLayer(nf, nf, norm_type=None,            # Convolutional layer 2\n",
    "            xtra=SelfAttention(nf) if self_attention else None, **kwargs)  #  Self-attention\n",
    "        self.relu = nn.ReLU(inplace=True)                         # Activation function\n",
    "\n",
    "    def forward(self, up_in:Tensor, left_in:Tensor) -> Tensor:\n",
    "        s = left_in\n",
    "        up_out = self.shuf(up_in)\n",
    "        cat_x = self.relu(torch.cat([up_out, self.bn(s)], dim=1)) # Connect the results of the upsampling and downsampling correspondence layers (U-Net) and go through the activation function\n",
    "        return self.conv2(self.conv1(cat_x))                    \n",
    "\n",
    "# ASPP Submodule       \n",
    "class _ASPPModule(nn.Module):\n",
    "    def __init__(self, inplanes, planes, kernel_size, padding, dilation, groups=1):\n",
    "        super().__init__()\n",
    "        # Set atrous convolution parameters\n",
    "        self.atrous_conv = nn.Conv2d(inplanes, planes, kernel_size=kernel_size,\n",
    "                stride=1, padding=padding, dilation=dilation, bias=False, groups=groups)\n",
    "        self.bn = nn.BatchNorm2d(planes)# Normalization\n",
    "        self.relu = nn.ReLU()           # Activation function\n",
    "\n",
    "        self._init_weight()\n",
    "\n",
    "    def forward(self, x):\n",
    "        x = self.atrous_conv(x) # Perform atrous convolution\n",
    "        x = self.bn(x)          # Normalization\n",
    "\n",
    "        return self.relu(x)\n",
    "\n",
    "    def _init_weight(self):\n",
    "        for m in self.modules():\n",
    "            if isinstance(m, nn.Conv2d): # Determine if the convolution is of known type\n",
    "                torch.nn.init.kaiming_normal_(m.weight) # Weight initialization\n",
    "            elif isinstance(m, nn.BatchNorm2d):\n",
    "                m.weight.data.fill_(1)# The weight parameter is filled with 1\n",
    "                m.bias.data.zero_()   # The bias function is filled with 0\n",
    "# Create and use ASPP modules\n",
    "class ASPP(nn.Module):\n",
    "    def __init__(self, inplanes=512, mid_c=256, dilations=[6, 12, 18, 24], out_c=None):\n",
    "        super().__init__()\n",
    "        self.aspps = [_ASPPModule(inplanes, mid_c, 1, padding=0, dilation=1)] + \\\n",
    "            [_ASPPModule(inplanes, mid_c, 3, padding=d, dilation=d,groups=4) for d in dilations]\n",
    "        \n",
    "        self.aspps = nn.ModuleList(self.aspps)   # Model list\n",
    "        self.global_pool = nn.Sequential(nn.AdaptiveMaxPool2d((1, 1)),  #  Adaptive maximum pooling\n",
    "                        nn.Conv2d(inplanes, mid_c, 1, stride=1, bias=False),# Convolution\n",
    "                        nn.BatchNorm2d(mid_c), nn.ReLU())               # Normalization\n",
    "        out_c = out_c if out_c is not None else mid_c\n",
    "        # The model sequence list neural network module is executed sequentially according to the incoming sucks\n",
    "        self.out_conv = nn.Sequential(nn.Conv2d(mid_c*(2+len(dilations)), out_c, 1, bias=False), # Convolution\n",
    "                                    nn.BatchNorm2d(out_c), nn.ReLU(inplace=True)) # Normalization, activation function\n",
    "        self.conv1 = nn.Conv2d(mid_c*(2+len(dilations)), out_c, 1, bias=False)   # Convolution\n",
    "        self._init_weight() # Weight initialization\n",
    "\n",
    "    def forward(self, x):\n",
    "        x0 = self.global_pool(x) # Global pooling\n",
    "        xs = [aspp(x) for aspp in self.aspps]\n",
    "        x0 = F.interpolate(x0, size=xs[0].size()[2:], mode='bilinear', align_corners=True)# Bilinear interpolation\n",
    "        x = torch.cat([x0] + xs, dim=1)\n",
    "        return self.out_conv(x)\n",
    "    \n",
    "    def _init_weight(self):\n",
    "        for m in self.modules():\n",
    "            if isinstance(m, nn.Conv2d):\n",
    "                torch.nn.init.kaiming_normal_(m.weight)\n",
    "            elif isinstance(m, nn.BatchNorm2d):\n",
    "                m.weight.data.fill_(1)\n",
    "                m.bias.data.zero_()"
   ]
  },
  {
   "cell_type": "code",
   "execution_count": 22,
   "metadata": {
    "execution": {
     "iopub.execute_input": "2021-03-11T18:13:07.447103Z",
     "iopub.status.busy": "2021-03-11T18:13:07.445366Z",
     "iopub.status.idle": "2021-03-11T18:13:07.526278Z",
     "shell.execute_reply": "2021-03-11T18:13:07.525598Z"
    },
    "id": "0g-JW2PdHhB1",
    "papermill": {
     "duration": 0.152684,
     "end_time": "2021-03-11T18:13:07.526419",
     "exception": false,
     "start_time": "2021-03-11T18:13:07.373735",
     "status": "completed"
    },
    "tags": []
   },
   "outputs": [],
   "source": [
    "class UneXt50(nn.Module):\n",
    "    def __init__(self, stride=1, **kwargs):\n",
    "        super().__init__()\n",
    "        # Encoder \n",
    "        \n",
    "        # Read resnext model\n",
    "        m = torch.hub.load('facebookresearch/semi-supervised-ImageNet1K-models',\n",
    "                           'resnext50_32x4d_ssl')\n",
    "        # Set the parameters of each layer of UneXt50\n",
    "        self.enc0 = nn.Sequential(m.conv1, m.bn1, nn.ReLU(inplace=True))\n",
    "        self.enc1 = nn.Sequential(nn.MaxPool2d(kernel_size=3, stride=2, padding=1, dilation=1),\n",
    "                            m.layer1) #256\n",
    "        self.enc2 = m.layer2 #512\n",
    "        self.enc3 = m.layer3 #1024\n",
    "        self.enc4 = m.layer4 #2048\n",
    "        #aspp module and customized dilatations\n",
    "        self.aspp = ASPP(2048,256,out_c=512,dilations=[stride*1,stride*2,stride*3,stride*4])\n",
    "        self.drop_aspp = nn.Dropout2d(0.5)\n",
    "        \n",
    "        # Decoder\n",
    "        self.dec4 = UnetBlock(512,1024,256)\n",
    "        self.dec3 = UnetBlock(256,512,128)\n",
    "        self.dec2 = UnetBlock(128,256,64)\n",
    "        self.dec1 = UnetBlock(64,64,32)\n",
    "        self.fpn = FPN([512,256,128,64],[16]*4)\n",
    "        self.drop = nn.Dropout2d(0.1)\n",
    "        self.final_conv = ConvLayer(32+16*4, 1, ks=1, norm_type=None, act_cls=None)\n",
    "    # Order of execution of UneXt \n",
    "    def forward(self, x):\n",
    "        \n",
    "        enc0 = self.enc0(x)\n",
    "        enc1 = self.enc1(enc0)\n",
    "        enc2 = self.enc2(enc1)\n",
    "        enc3 = self.enc3(enc2)\n",
    "        enc4 = self.enc4(enc3)\n",
    "        enc5 = self.aspp(enc4)\n",
    "        dec3 = self.dec4(self.drop_aspp(enc5),enc3)\n",
    "        dec2 = self.dec3(dec3,enc2)\n",
    "        dec1 = self.dec2(dec2,enc1)\n",
    "        dec0 = self.dec1(dec1,enc0)\n",
    "        x = self.fpn([enc5, dec3, dec2, dec1], dec0)\n",
    "        x = self.final_conv(self.drop(x))\n",
    "        x = F.interpolate(x,scale_factor=2,mode='bilinear')\n",
    "        return x\n",
    "\n",
    "# Slice and dice the model into encoder and decoder parts by fastai\n",
    "split_layers = lambda m: [list(m.enc0.parameters())+list(m.enc1.parameters())+\n",
    "                list(m.enc2.parameters())+list(m.enc3.parameters())+\n",
    "                list(m.enc4.parameters()),\n",
    "                list(m.aspp.parameters())+list(m.dec4.parameters())+\n",
    "                list(m.dec3.parameters())+list(m.dec2.parameters())+\n",
    "                list(m.dec1.parameters())+list(m.fpn.parameters())+\n",
    "                list(m.final_conv.parameters())]"
   ]
  },
  {
   "cell_type": "markdown",
   "metadata": {
    "id": "7L2i1MZuHhB1",
    "papermill": {
     "duration": 0.076542,
     "end_time": "2021-03-11T18:13:07.688572",
     "exception": false,
     "start_time": "2021-03-11T18:13:07.612030",
     "status": "completed"
    },
    "tags": []
   },
   "source": [
    "# Loss and metric\n",
    "The loss that works the best for image segmentation in most of the cases is [Lovász loss](https://arxiv.org/pdf/1705.08790.pdf), a differentiable surrogate of IoU. However, ReLU in it must be replaced by (ELU + 1), like I did [here](https://www.kaggle.com/iafoss/lovasz). Another trick is consideration of a symmetric Lovász loss: consider not only a predicted segmentation and a provided mask but also the inverse prediction and the inverse mask (predict mask for negative case)."
   ]
  },
  {
   "cell_type": "code",
   "execution_count": 23,
   "metadata": {
    "execution": {
     "iopub.execute_input": "2021-03-11T18:13:07.850143Z",
     "iopub.status.busy": "2021-03-11T18:13:07.849318Z",
     "iopub.status.idle": "2021-03-11T18:13:07.889451Z",
     "shell.execute_reply": "2021-03-11T18:13:07.888218Z"
    },
    "id": "Hle9BfO4HhB2",
    "papermill": {
     "duration": 0.125886,
     "end_time": "2021-03-11T18:13:07.889630",
     "exception": false,
     "start_time": "2021-03-11T18:13:07.763744",
     "status": "completed"
    },
    "tags": []
   },
   "outputs": [],
   "source": [
    "def symmetric_lovasz(outputs, targets):\n",
    "    return 0.5*(lovasz_hinge(outputs, targets) + lovasz_hinge(-outputs, 1.0 - targets))"
   ]
  },
  {
   "cell_type": "code",
   "execution_count": 24,
   "metadata": {
    "execution": {
     "iopub.execute_input": "2021-03-11T18:13:08.001101Z",
     "iopub.status.busy": "2021-03-11T18:13:07.997808Z",
     "iopub.status.idle": "2021-03-11T18:13:08.037869Z",
     "shell.execute_reply": "2021-03-11T18:13:08.037419Z"
    },
    "id": "HYZh3lQWHhB2",
    "papermill": {
     "duration": 0.090188,
     "end_time": "2021-03-11T18:13:08.037967",
     "exception": false,
     "start_time": "2021-03-11T18:13:07.947779",
     "status": "completed"
    },
    "tags": []
   },
   "outputs": [],
   "source": [
    "# dice-Calculation of coefficients\n",
    "class Dice_soft(Metric):\n",
    "    def __init__(self, axis=1): \n",
    "        self.axis = axis \n",
    "    def reset(self): self.inter,self.union = 0,0\n",
    "    def accumulate(self, learn):\n",
    "        pred,targ = flatten_check(torch.sigmoid(learn.pred), learn.y)\n",
    "        self.inter += (pred*targ).float().sum().item()\n",
    "        self.union += (pred+targ).float().sum().item()\n",
    "    @property\n",
    "    def value(self): return 2.0 * self.inter/self.union if self.union > 0 else None\n",
    "    \n",
    "# dice-Selection of adaptive thresholds\n",
    "class Dice_th(Metric):\n",
    "    def __init__(self, ths=np.arange(0.1,0.9,0.05), axis=1): \n",
    "        self.axis = axis\n",
    "        self.ths = ths\n",
    "    # inter and union parameter initialization    \n",
    "    def reset(self): \n",
    "        self.inter = torch.zeros(len(self.ths))\n",
    "        self.union = torch.zeros(len(self.ths))\n",
    "    # Calculate the threshold value    \n",
    "    def accumulate(self, learn):\n",
    "        pred,targ = flatten_check(torch.sigmoid(learn.pred), learn.y)\n",
    "        for i,th in enumerate(self.ths):\n",
    "            p = (pred > th).float()\n",
    "            self.inter[i] += (p*targ).float().sum().item()\n",
    "            self.union[i] += (p+targ).float().sum().item()\n",
    "\n",
    "    @property\n",
    "    def value(self):\n",
    "        #Find the threshold value by case and return the largest of these thresholds\n",
    "        dices = torch.where(self.union > 0.0, \n",
    "                2.0*self.inter/self.union, torch.zeros_like(self.union))\n",
    "        return dices.max()"
   ]
  },
  {
   "cell_type": "markdown",
   "metadata": {
    "id": "P2Bqk1HIHhB2",
    "papermill": {
     "duration": 0.040333,
     "end_time": "2021-03-11T18:13:08.119299",
     "exception": false,
     "start_time": "2021-03-11T18:13:08.078966",
     "status": "completed"
    },
    "tags": []
   },
   "source": [
    "# Model evaluation"
   ]
  },
  {
   "cell_type": "code",
   "execution_count": 25,
   "metadata": {
    "execution": {
     "iopub.execute_input": "2021-03-11T18:13:08.217638Z",
     "iopub.status.busy": "2021-03-11T18:13:08.214321Z",
     "iopub.status.idle": "2021-03-11T18:13:08.255745Z",
     "shell.execute_reply": "2021-03-11T18:13:08.255292Z"
    },
    "id": "PTJ2AhKYHhB2",
    "papermill": {
     "duration": 0.095878,
     "end_time": "2021-03-11T18:13:08.255835",
     "exception": false,
     "start_time": "2021-03-11T18:13:08.159957",
     "status": "completed"
    },
    "tags": []
   },
   "outputs": [],
   "source": [
    "#iterator like wrapper that returns predicted and gt masks\n",
    "# Model evaluation and inference testing\n",
    "class Model_pred:\n",
    "    def __init__(self, model, dl, tta:bool=True, half:bool=False):\n",
    "        self.model = model\n",
    "        self.dl = dl\n",
    "        self.tta = tta\n",
    "        self.half = half\n",
    "    # Iterators    \n",
    "    def __iter__(self):\n",
    "        self.model.module.eval()  # Model iteration and model evaluation\n",
    "        name_list = self.dl.dataset.fnames\n",
    "        count=0\n",
    "        with torch.no_grad():\n",
    "            for x,y in iter(self.dl):\n",
    "                x = x.to(device) # Feeding the model into the GPU\n",
    "                if self.half: x = x.half()\n",
    "                p = self.model(x)    # Implement model\n",
    "                py = torch.sigmoid(p).detach() # Separation\n",
    "                if self.tta:\n",
    "                    #x,y,xy flips as TTA\n",
    "                    flips = [[-1],[-2],[-2,-1]]\n",
    "                    for f in flips:\n",
    "                        p = self.model(torch.flip(x,f))\n",
    "                        p = torch.flip(p,f)\n",
    "                        py += torch.sigmoid(p).detach()\n",
    "                    py /= (1+len(flips))\n",
    "                if y is not None and len(y.shape)==4 and py.shape != y.shape:\n",
    "                    py = F.upsample(py, size=(y.shape[-2],y.shape[-1]), mode=\"bilinear\")\n",
    "                py = py.permute(0,2,3,1).float().cpu()\n",
    "                batch_size = len(py)\n",
    "                for i in range(batch_size):\n",
    "                    taget = y[i].detach().cpu() if y is not None else None\n",
    "                    yield py[i],taget,name_list[count]\n",
    "                    count += 1\n",
    "                    \n",
    "    def __len__(self):\n",
    "        return len(self.dl.dataset)\n",
    "# dice-Selection of adaptive thresholds \n",
    "class Dice_th_pred(Metric):\n",
    "    def __init__(self, ths=np.arange(0.1,0.9,0.01), axis=1): \n",
    "        self.axis = axis\n",
    "        self.ths = ths\n",
    "        self.reset()\n",
    "    # inter and union parameter initialization    \n",
    "    def reset(self): \n",
    "        self.inter = torch.zeros(len(self.ths))\n",
    "        self.union = torch.zeros(len(self.ths))\n",
    "    # Calculate the threshold value    \n",
    "    def accumulate(self,p,t):\n",
    "        pred,targ = flatten_check(p, t)\n",
    "        for i,th in enumerate(self.ths):\n",
    "            p = (pred > th).float()\n",
    "            self.inter[i] += (p*targ).float().sum().item()\n",
    "            self.union[i] += (p+targ).float().sum().item()\n",
    "\n",
    "    @property\n",
    "    # Get the adaptive threshold\n",
    "    def value(self):\n",
    "        dices = torch.where(self.union > 0.0, 2.0*self.inter/self.union, \n",
    "                            torch.zeros_like(self.union))\n",
    "        return dices\n",
    "# Save the decoded image    \n",
    "def save_img(data,name,out):\n",
    "    data = data.float().cpu().numpy()\n",
    "    img = cv2.imencode('.png',(data*255).astype(np.uint8))[1]\n",
    "    out.writestr(name, img)"
   ]
  },
  {
   "cell_type": "markdown",
   "metadata": {
    "id": "1s8J8uZrHhB2",
    "papermill": {
     "duration": 0.040885,
     "end_time": "2021-03-11T18:13:08.336994",
     "exception": false,
     "start_time": "2021-03-11T18:13:08.296109",
     "status": "completed"
    },
    "tags": []
   },
   "source": [
    "# Train"
   ]
  },
  {
   "cell_type": "code",
   "execution_count": 26,
   "metadata": {
    "id": "2eOPPtlEJMhE"
   },
   "outputs": [],
   "source": [
    "# import time\n",
    "# s_time = time.strftime(\"%m-%d-%H-%M\", time.localtime())\n",
    "# base_save = f'../output/model_{sz}x{sz}/{model_base_name}_{s_time}_'\n",
    "# print(base_save)"
   ]
  },
  {
   "cell_type": "code",
   "execution_count": 27,
   "metadata": {
    "_kg_hide-output": true,
    "colab": {
     "base_uri": "https://localhost:8080/",
     "height": 113
    },
    "execution": {
     "iopub.execute_input": "2021-03-11T18:13:08.429430Z",
     "iopub.status.busy": "2021-03-11T18:13:08.428639Z",
     "iopub.status.idle": "2021-03-12T02:27:06.195051Z",
     "shell.execute_reply": "2021-03-12T02:27:06.194567Z"
    },
    "id": "4gHC_-70HhB3",
    "outputId": "9d61dac3-ddff-49e4-e2e8-e43a54ec9984",
    "papermill": {
     "duration": 29637.81713,
     "end_time": "2021-03-12T02:27:06.195179",
     "exception": false,
     "start_time": "2021-03-11T18:13:08.378049",
     "status": "completed"
    },
    "tags": []
   },
   "outputs": [
    {
     "name": "stderr",
     "output_type": "stream",
     "text": [
      "Using cache found in /home/ubuntu/.cache/torch/hub/facebookresearch_semi-supervised-ImageNet1K-models_master\n"
     ]
    },
    {
     "data": {
      "text/html": [
       "<table border=\"1\" class=\"dataframe\">\n",
       "  <thead>\n",
       "    <tr style=\"text-align: left;\">\n",
       "      <th>epoch</th>\n",
       "      <th>train_loss</th>\n",
       "      <th>valid_loss</th>\n",
       "      <th>dice_soft</th>\n",
       "      <th>dice_th</th>\n",
       "      <th>time</th>\n",
       "    </tr>\n",
       "  </thead>\n",
       "  <tbody>\n",
       "    <tr>\n",
       "      <td>0</td>\n",
       "      <td>0.990320</td>\n",
       "      <td>0.960507</td>\n",
       "      <td>0.403819</td>\n",
       "      <td>0.658828</td>\n",
       "      <td>00:25</td>\n",
       "    </tr>\n",
       "    <tr>\n",
       "      <td>1</td>\n",
       "      <td>0.673458</td>\n",
       "      <td>1.165004</td>\n",
       "      <td>0.671377</td>\n",
       "      <td>0.788805</td>\n",
       "      <td>00:25</td>\n",
       "    </tr>\n",
       "    <tr>\n",
       "      <td>2</td>\n",
       "      <td>0.558828</td>\n",
       "      <td>0.858094</td>\n",
       "      <td>0.579221</td>\n",
       "      <td>0.808628</td>\n",
       "      <td>00:24</td>\n",
       "    </tr>\n",
       "    <tr>\n",
       "      <td>3</td>\n",
       "      <td>0.516298</td>\n",
       "      <td>1.068443</td>\n",
       "      <td>0.675052</td>\n",
       "      <td>0.824355</td>\n",
       "      <td>00:25</td>\n",
       "    </tr>\n",
       "  </tbody>\n",
       "</table>"
      ],
      "text/plain": [
       "<IPython.core.display.HTML object>"
      ]
     },
     "metadata": {},
     "output_type": "display_data"
    },
    {
     "data": {
      "text/html": [
       "<table border=\"1\" class=\"dataframe\">\n",
       "  <thead>\n",
       "    <tr style=\"text-align: left;\">\n",
       "      <th>epoch</th>\n",
       "      <th>train_loss</th>\n",
       "      <th>valid_loss</th>\n",
       "      <th>dice_soft</th>\n",
       "      <th>dice_th</th>\n",
       "      <th>time</th>\n",
       "    </tr>\n",
       "  </thead>\n",
       "  <tbody>\n",
       "    <tr>\n",
       "      <td>0</td>\n",
       "      <td>0.476821</td>\n",
       "      <td>0.904658</td>\n",
       "      <td>0.707148</td>\n",
       "      <td>0.844749</td>\n",
       "      <td>00:39</td>\n",
       "    </tr>\n",
       "    <tr>\n",
       "      <td>1</td>\n",
       "      <td>0.524946</td>\n",
       "      <td>1.135000</td>\n",
       "      <td>0.763178</td>\n",
       "      <td>0.848648</td>\n",
       "      <td>00:38</td>\n",
       "    </tr>\n",
       "    <tr>\n",
       "      <td>2</td>\n",
       "      <td>0.482954</td>\n",
       "      <td>0.601238</td>\n",
       "      <td>0.749780</td>\n",
       "      <td>0.865563</td>\n",
       "      <td>00:38</td>\n",
       "    </tr>\n",
       "    <tr>\n",
       "      <td>3</td>\n",
       "      <td>0.404444</td>\n",
       "      <td>0.478220</td>\n",
       "      <td>0.845505</td>\n",
       "      <td>0.903735</td>\n",
       "      <td>00:39</td>\n",
       "    </tr>\n",
       "    <tr>\n",
       "      <td>4</td>\n",
       "      <td>0.343726</td>\n",
       "      <td>0.487483</td>\n",
       "      <td>0.822512</td>\n",
       "      <td>0.890318</td>\n",
       "      <td>00:37</td>\n",
       "    </tr>\n",
       "    <tr>\n",
       "      <td>5</td>\n",
       "      <td>0.420168</td>\n",
       "      <td>0.511262</td>\n",
       "      <td>0.717631</td>\n",
       "      <td>0.895659</td>\n",
       "      <td>00:38</td>\n",
       "    </tr>\n",
       "    <tr>\n",
       "      <td>6</td>\n",
       "      <td>0.328057</td>\n",
       "      <td>0.397109</td>\n",
       "      <td>0.886684</td>\n",
       "      <td>0.921875</td>\n",
       "      <td>00:38</td>\n",
       "    </tr>\n",
       "    <tr>\n",
       "      <td>7</td>\n",
       "      <td>0.267487</td>\n",
       "      <td>0.448439</td>\n",
       "      <td>0.891577</td>\n",
       "      <td>0.917732</td>\n",
       "      <td>00:39</td>\n",
       "    </tr>\n",
       "    <tr>\n",
       "      <td>8</td>\n",
       "      <td>0.289427</td>\n",
       "      <td>0.397249</td>\n",
       "      <td>0.878805</td>\n",
       "      <td>0.916202</td>\n",
       "      <td>00:38</td>\n",
       "    </tr>\n",
       "    <tr>\n",
       "      <td>9</td>\n",
       "      <td>0.289224</td>\n",
       "      <td>0.369684</td>\n",
       "      <td>0.867222</td>\n",
       "      <td>0.925811</td>\n",
       "      <td>00:38</td>\n",
       "    </tr>\n",
       "    <tr>\n",
       "      <td>10</td>\n",
       "      <td>0.278614</td>\n",
       "      <td>0.370859</td>\n",
       "      <td>0.892251</td>\n",
       "      <td>0.926978</td>\n",
       "      <td>00:39</td>\n",
       "    </tr>\n",
       "    <tr>\n",
       "      <td>11</td>\n",
       "      <td>0.285559</td>\n",
       "      <td>0.365459</td>\n",
       "      <td>0.882092</td>\n",
       "      <td>0.925839</td>\n",
       "      <td>00:39</td>\n",
       "    </tr>\n",
       "    <tr>\n",
       "      <td>12</td>\n",
       "      <td>0.253641</td>\n",
       "      <td>0.587272</td>\n",
       "      <td>0.846355</td>\n",
       "      <td>0.892912</td>\n",
       "      <td>00:39</td>\n",
       "    </tr>\n",
       "    <tr>\n",
       "      <td>13</td>\n",
       "      <td>0.240946</td>\n",
       "      <td>0.495169</td>\n",
       "      <td>0.883160</td>\n",
       "      <td>0.917353</td>\n",
       "      <td>00:39</td>\n",
       "    </tr>\n",
       "    <tr>\n",
       "      <td>14</td>\n",
       "      <td>0.197856</td>\n",
       "      <td>0.359631</td>\n",
       "      <td>0.888724</td>\n",
       "      <td>0.927972</td>\n",
       "      <td>00:39</td>\n",
       "    </tr>\n",
       "    <tr>\n",
       "      <td>15</td>\n",
       "      <td>0.193813</td>\n",
       "      <td>0.414643</td>\n",
       "      <td>0.886013</td>\n",
       "      <td>0.924663</td>\n",
       "      <td>00:40</td>\n",
       "    </tr>\n",
       "  </tbody>\n",
       "</table>"
      ],
      "text/plain": [
       "<IPython.core.display.HTML object>"
      ]
     },
     "metadata": {},
     "output_type": "display_data"
    },
    {
     "name": "stdout",
     "output_type": "stream",
     "text": [
      "Better model found at epoch 0 with dice_th value: 0.844749391078949.\n",
      "Better model found at epoch 1 with dice_th value: 0.8486480116844177.\n",
      "Better model found at epoch 2 with dice_th value: 0.865563154220581.\n",
      "Better model found at epoch 3 with dice_th value: 0.9037354588508606.\n",
      "Better model found at epoch 6 with dice_th value: 0.9218750596046448.\n",
      "Better model found at epoch 9 with dice_th value: 0.9258105158805847.\n",
      "Better model found at epoch 10 with dice_th value: 0.926978349685669.\n",
      "Better model found at epoch 14 with dice_th value: 0.9279724359512329.\n"
     ]
    },
    {
     "ename": "NameError",
     "evalue": "name '保存图像' is not defined",
     "output_type": "error",
     "traceback": [
      "\u001b[0;31m---------------------------------------------------------------------------\u001b[0m",
      "\u001b[0;31mNameError\u001b[0m                                 Traceback (most recent call last)",
      "\u001b[0;32m<ipython-input-27-71db622f86da>\u001b[0m in \u001b[0;36m<module>\u001b[0;34m\u001b[0m\n\u001b[1;32m     48\u001b[0m     \u001b[0;31m#对val的模型评估预测和保存遮掩图像（masks）\u001b[0m\u001b[0;34m\u001b[0m\u001b[0;34m\u001b[0m\u001b[0;34m\u001b[0m\u001b[0m\n\u001b[1;32m     49\u001b[0m     \u001b[0mmp\u001b[0m \u001b[0;34m=\u001b[0m \u001b[0mModel_pred\u001b[0m\u001b[0;34m(\u001b[0m\u001b[0mlearn\u001b[0m\u001b[0;34m.\u001b[0m\u001b[0mmodel\u001b[0m\u001b[0;34m,\u001b[0m\u001b[0mlearn\u001b[0m\u001b[0;34m.\u001b[0m\u001b[0mdls\u001b[0m\u001b[0;34m.\u001b[0m\u001b[0mloaders\u001b[0m\u001b[0;34m[\u001b[0m\u001b[0;36m1\u001b[0m\u001b[0;34m]\u001b[0m\u001b[0;34m)\u001b[0m\u001b[0;34m\u001b[0m\u001b[0;34m\u001b[0m\u001b[0m\n\u001b[0;32m---> 50\u001b[0;31m     \u001b[0m保存图像\u001b[0m\u001b[0;34m\u001b[0m\u001b[0;34m\u001b[0m\u001b[0m\n\u001b[0m\u001b[1;32m     51\u001b[0m     \u001b[0;32mwith\u001b[0m \u001b[0mzipfile\u001b[0m\u001b[0;34m.\u001b[0m\u001b[0mZipFile\u001b[0m\u001b[0;34m(\u001b[0m\u001b[0;34mf'{base_save}val_masks_tta.zip'\u001b[0m\u001b[0;34m,\u001b[0m \u001b[0;34m'a'\u001b[0m\u001b[0;34m)\u001b[0m \u001b[0;32mas\u001b[0m \u001b[0mout\u001b[0m\u001b[0;34m:\u001b[0m\u001b[0;34m\u001b[0m\u001b[0;34m\u001b[0m\u001b[0m\n\u001b[1;32m     52\u001b[0m         \u001b[0;32mfor\u001b[0m \u001b[0mp\u001b[0m \u001b[0;32min\u001b[0m \u001b[0mprogress_bar\u001b[0m\u001b[0;34m(\u001b[0m\u001b[0mmp\u001b[0m\u001b[0;34m)\u001b[0m\u001b[0;34m:\u001b[0m\u001b[0;34m\u001b[0m\u001b[0;34m\u001b[0m\u001b[0m\n",
      "\u001b[0;31mNameError\u001b[0m: name '保存图像' is not defined"
     ]
    }
   ],
   "source": [
    "dice = Dice_th_pred(np.arange(0.2,0.7,0.01))\n",
    "import torch.nn as nn\n",
    "# for fold in range(nfolds):\n",
    "# Read data from the training and evaluation datasets\n",
    "for fold in range(train_fold):\n",
    "    ds_t = HuBMAPDataset(fold=fold, train=True, tfms=get_aug())\n",
    "    ds_v = HuBMAPDataset(fold=fold, train=False)\n",
    "    data = ImageDataLoaders.from_dsets(ds_t,ds_v,bs=bs,\n",
    "                num_workers=NUM_WORKERS,pin_memory=True).to(device)#.cuda(device=device_ids[0])#(device=device_ids[0])#to(device)\n",
    "    \n",
    "    model = UneXt50() # Inputting data into the model\n",
    "    \n",
    "    #if isinstance(model,nn.DataParallel):\n",
    "    # model = model.module()\n",
    "    # Using multiple GPUs\n",
    "    # if torch.cuda.device_count() > 1:\n",
    "        # print(\"Let's use\", torch.cuda.device_count(), \"GPUs!\")\n",
    "        # model = nn.DataParallel(UneXt50().cuda(), device_ids=[0, 1])\n",
    "        # model = nn.DataParallel(model, device_ids=device_ids)#, device_ids=device_ids\n",
    "\n",
    "        # model = model.module.to(device)#.cuda(device_ids[0])#device_ids\n",
    "        # model = torch.nn.DataParallel(model, device_ids=[0,1], output_device=[0], dim=0)\n",
    "    # Obtain the loss of the model\n",
    "    learn = Learner(data, model, loss_func=symmetric_lovasz,\n",
    "                metrics=[Dice_soft(),Dice_th()], \n",
    "                ## TypeError: __init__() got an unexpected keyword argument 'clip'\n",
    "                # splitter=split_layers).to_fp16(clip=0.5) \n",
    "                splitter=split_layers).to_fp16()\n",
    "    \n",
    "    # Training from the ground up\n",
    "    learn.freeze_to(-1) # Freezing partial layers\n",
    "    for param in learn.opt.param_groups[0]['params']:\n",
    "        param.requires_grad = False\n",
    "    learn.fit_one_cycle(4, lr_max=1e-4)\n",
    "\n",
    "    learn.unfreeze() # Stop freezing and continue training all layers\n",
    "    # Annealing algorithm\n",
    "    learn.fit_one_cycle(16, lr_max=slice(2e-5,2e-4),\n",
    "        cbs=SaveModelCallback(monitor='dice_th',comp=np.greater))\n",
    "    import time\n",
    "    # Calculate the time of a cycle\n",
    "    s_time = time.strftime(\"%m-%d-%H-%M\", time.localtime())\n",
    "    # Set the name of the saved model\n",
    "    base_save = f'../output/model_{sz}x{sz}/{model_base_name}_{s_time}_'\n",
    "    # Save model\n",
    "    torch.save(learn.model.state_dict(),f'{base_save}model_{fold}.pth')\n",
    "    \n",
    "    #Evaluate predictions and save masked images for val's model\n",
    "    mp = Model_pred(learn.model,learn.dls.loaders[1])\n",
    "    # Save image\n",
    "    with zipfile.ZipFile(f'{base_save}val_masks_tta.zip', 'a') as out:\n",
    "        for p in progress_bar(mp):\n",
    "            dice.accumulate(p[0],p[1])\n",
    "            save_img(p[0],p[2],out)\n",
    "    gc.collect()# Free memory"
   ]
  },
  {
   "cell_type": "code",
   "execution_count": null,
   "metadata": {
    "execution": {
     "iopub.execute_input": "2021-03-12T02:27:06.332250Z",
     "iopub.status.busy": "2021-03-12T02:27:06.331414Z",
     "iopub.status.idle": "2021-03-12T02:27:06.509031Z",
     "shell.execute_reply": "2021-03-12T02:27:06.508586Z"
    },
    "id": "y7ZbxKW0HhB3",
    "papermill": {
     "duration": 0.252836,
     "end_time": "2021-03-12T02:27:06.509129",
     "exception": false,
     "start_time": "2021-03-12T02:27:06.256293",
     "status": "completed"
    },
    "tags": []
   },
   "outputs": [],
   "source": [
    "dices = dice.value  # Find the value of dice coefficient\n",
    "noise_ths = dice.ths # Find the dice threshold\n",
    "best_dice = dices.max()# Get the maximum dice threshold\n",
    "best_thr = noise_ths[dices.argmax()] # Find the threshold value when dice is maximum\n",
    "# Drawing\n",
    "plt.figure(figsize=(8,4))\n",
    "plt.plot(noise_ths, dices, color='blue')\n",
    "plt.vlines(x=best_thr, ymin=dices.min(), ymax=dices.max(), colors='black')\n",
    "d = dices.max() - dices.min()\n",
    "plt.text(noise_ths[-1]-0.1, best_dice-0.1*d, f'DICE = {best_dice:.3f}', fontsize=12);\n",
    "plt.text(noise_ths[-1]-0.1, best_dice-0.2*d, f'TH = {best_thr:.3f}', fontsize=12);\n",
    "plt.show()"
   ]
  },
  {
   "cell_type": "code",
   "execution_count": null,
   "metadata": {
    "_cell_guid": "79c7e3d0-c299-4dcb-8224-4455121ee9b0",
    "_uuid": "d629ff2d2480ee46fbb7e2d37f6b5fab8052498a",
    "id": "nTUi_1raHhB3",
    "papermill": {
     "duration": 0.060975,
     "end_time": "2021-03-12T02:27:06.631927",
     "exception": false,
     "start_time": "2021-03-12T02:27:06.570952",
     "status": "completed"
    },
    "tags": []
   },
   "outputs": [],
   "source": [
    "\n",
    "# pid = os.getpid()\n",
    "# !kill -9 $pi"
   ]
  },
  {
   "cell_type": "code",
   "execution_count": null,
   "metadata": {},
   "outputs": [],
   "source": []
  }
 ],
 "metadata": {
  "accelerator": "GPU",
  "colab": {
   "collapsed_sections": [],
   "machine_shape": "hm",
   "name": "hubmap-pytorch-fast-ai-starter-256-512-1024_WJ.ipynb",
   "provenance": []
  },
  "kernelspec": {
   "display_name": "Python 3 (ipykernel)",
   "language": "python",
   "name": "python3"
  },
  "language_info": {
   "codemirror_mode": {
    "name": "ipython",
    "version": 3
   },
   "file_extension": ".py",
   "mimetype": "text/x-python",
   "name": "python",
   "nbconvert_exporter": "python",
   "pygments_lexer": "ipython3",
   "version": "3.8.8"
  },
  "papermill": {
   "duration": 29660.468139,
   "end_time": "2021-03-12T02:27:07.302133",
   "environment_variables": {},
   "exception": null,
   "input_path": "__notebook__.ipynb",
   "output_path": "__notebook__.ipynb",
   "parameters": {},
   "start_time": "2021-03-11T18:12:46.833994",
   "version": "2.1.0"
  }
 },
 "nbformat": 4,
 "nbformat_minor": 1
}
