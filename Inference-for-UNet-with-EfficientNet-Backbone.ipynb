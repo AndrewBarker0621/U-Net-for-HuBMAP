{
 "cells": [
  {
   "cell_type": "markdown",
   "metadata": {
    "papermill": {
     "duration": 0.011016,
     "end_time": "2021-05-07T11:52:06.501476",
     "exception": false,
     "start_time": "2021-05-07T11:52:06.490460",
     "status": "completed"
    },
    "tags": []
   },
   "source": [
    "# Hacking the Kidney: Inference of Unet model"
   ]
  },
  {
   "cell_type": "markdown",
   "metadata": {
    "papermill": {
     "duration": 0.00966,
     "end_time": "2021-05-07T11:52:06.521252",
     "exception": false,
     "start_time": "2021-05-07T11:52:06.511592",
     "status": "completed"
    },
    "tags": []
   },
   "source": [
    "References:\n",
    "\n",
    "- [256x256 images](https://www.kaggle.com/iafoss/256x256-images)\n",
    "\n",
    "- [Making a successful submission](https://www.kaggle.com/igor14497/making-a-successful-submission])\n",
    "\n",
    "- [HuBMAP: TF with TPU EfficientUNet 512x512[subm]](https://www.kaggle.com/wrrosa/hubmap-tf-with-tpu-efficientunet-512x512-subm)\n",
    "\n",
    "- [Global Mask Shift](https://www.kaggle.com/tivfrvqhs5/global-mask-shift)\n",
    "\n",
    "Many thanks to that notebooks' authors."
   ]
  },
  {
   "cell_type": "markdown",
   "metadata": {
    "papermill": {
     "duration": 0.009513,
     "end_time": "2021-05-07T11:52:06.540490",
     "exception": false,
     "start_time": "2021-05-07T11:52:06.530977",
     "status": "completed"
    },
    "tags": []
   },
   "source": [
    "This notebook makes an inference for Unet model with EfficientNet backbone based on [this library](https://github.com/qubvel/segmentation_models). The code for training models is [here](https://github.com/vgarshin/kaggle_kidney/blob/master/kidney_train.ipynb)."
   ]
  },
  {
   "cell_type": "code",
   "execution_count": 1,
   "metadata": {
    "execution": {
     "iopub.execute_input": "2021-05-07T11:52:06.574414Z",
     "iopub.status.busy": "2021-05-07T11:52:06.573631Z",
     "iopub.status.idle": "2021-05-07T11:52:39.632749Z",
     "shell.execute_reply": "2021-05-07T11:52:39.633159Z"
    },
    "papermill": {
     "duration": 33.082883,
     "end_time": "2021-05-07T11:52:39.633333",
     "exception": false,
     "start_time": "2021-05-07T11:52:06.550450",
     "status": "completed"
    },
    "tags": []
   },
   "outputs": [
    {
     "name": "stdout",
     "output_type": "stream",
     "text": [
      "Looking in links: ./\r\n",
      "Processing /kaggle/input/keras-applications/Keras_Applications-1.0.8\r\n",
      "Requirement already satisfied: numpy>=1.9.1 in /opt/conda/lib/python3.7/site-packages (from Keras-Applications==1.0.8) (1.18.5)\r\n",
      "Requirement already satisfied: h5py in /opt/conda/lib/python3.7/site-packages (from Keras-Applications==1.0.8) (2.10.0)\r\n",
      "Requirement already satisfied: six in /opt/conda/lib/python3.7/site-packages (from h5py->Keras-Applications==1.0.8) (1.14.0)\r\n",
      "Building wheels for collected packages: Keras-Applications\r\n",
      "  Building wheel for Keras-Applications (setup.py) ... \u001b[?25l-\b \b\\\b \bdone\r\n",
      "\u001b[?25h  Created wheel for Keras-Applications: filename=Keras_Applications-1.0.8-py3-none-any.whl size=50704 sha256=1f68372b925206b4b23a7ef591c3bc2fb325fa97c5784348b1fef1c88d95f382\r\n",
      "  Stored in directory: /root/.cache/pip/wheels/b4/02/72/232b9e664a461886108d09707ad8804690edba42586c42afec\r\n",
      "Successfully built Keras-Applications\r\n",
      "Installing collected packages: Keras-Applications\r\n",
      "Successfully installed Keras-Applications-1.0.8\r\n",
      "Looking in links: ./\r\n",
      "Processing /kaggle/input/image-classifiers/image_classifiers-1.0.0\r\n",
      "Requirement already satisfied: keras_applications<=1.0.8,>=1.0.7 in /opt/conda/lib/python3.7/site-packages (from image-classifiers==1.0.0) (1.0.8)\r\n",
      "Requirement already satisfied: numpy>=1.9.1 in /opt/conda/lib/python3.7/site-packages (from keras_applications<=1.0.8,>=1.0.7->image-classifiers==1.0.0) (1.18.5)\r\n",
      "Requirement already satisfied: h5py in /opt/conda/lib/python3.7/site-packages (from keras_applications<=1.0.8,>=1.0.7->image-classifiers==1.0.0) (2.10.0)\r\n",
      "Requirement already satisfied: six in /opt/conda/lib/python3.7/site-packages (from h5py->keras_applications<=1.0.8,>=1.0.7->image-classifiers==1.0.0) (1.14.0)\r\n",
      "Building wheels for collected packages: image-classifiers\r\n",
      "  Building wheel for image-classifiers (setup.py) ... \u001b[?25l-\b \b\\\b \bdone\r\n",
      "\u001b[?25h  Created wheel for image-classifiers: filename=image_classifiers-1.0.0-py3-none-any.whl size=19950 sha256=f8b5bb54b41880047bc5b577dd46ba2ecdef53a548277bf3664220c655e8b5ec\r\n",
      "  Stored in directory: /root/.cache/pip/wheels/37/81/6f/06831e1b048e5cd8dd5abecf8186a18ebc7287157634be2d08\r\n",
      "Successfully built image-classifiers\r\n",
      "Installing collected packages: image-classifiers\r\n",
      "Successfully installed image-classifiers-1.0.0\r\n",
      "Looking in links: ./\r\n",
      "Processing /kaggle/input/efficientnet-1-0-0/efficientnet-1.0.0\r\n",
      "Requirement already satisfied: keras_applications<=1.0.8,>=1.0.7 in /opt/conda/lib/python3.7/site-packages (from efficientnet==1.0.0) (1.0.8)\r\n",
      "Requirement already satisfied: scikit-image in /opt/conda/lib/python3.7/site-packages (from efficientnet==1.0.0) (0.16.2)\r\n",
      "Requirement already satisfied: h5py in /opt/conda/lib/python3.7/site-packages (from keras_applications<=1.0.8,>=1.0.7->efficientnet==1.0.0) (2.10.0)\r\n",
      "Requirement already satisfied: numpy>=1.9.1 in /opt/conda/lib/python3.7/site-packages (from keras_applications<=1.0.8,>=1.0.7->efficientnet==1.0.0) (1.18.5)\r\n",
      "Requirement already satisfied: scipy>=0.19.0 in /opt/conda/lib/python3.7/site-packages (from scikit-image->efficientnet==1.0.0) (1.4.1)\r\n",
      "Requirement already satisfied: matplotlib!=3.0.0,>=2.0.0 in /opt/conda/lib/python3.7/site-packages (from scikit-image->efficientnet==1.0.0) (3.2.1)\r\n",
      "Requirement already satisfied: networkx>=2.0 in /opt/conda/lib/python3.7/site-packages (from scikit-image->efficientnet==1.0.0) (2.4)\r\n",
      "Requirement already satisfied: pillow>=4.3.0 in /opt/conda/lib/python3.7/site-packages (from scikit-image->efficientnet==1.0.0) (8.0.1)\r\n",
      "Requirement already satisfied: imageio>=2.3.0 in /opt/conda/lib/python3.7/site-packages (from scikit-image->efficientnet==1.0.0) (2.8.0)\r\n",
      "Requirement already satisfied: PyWavelets>=0.4.0 in /opt/conda/lib/python3.7/site-packages (from scikit-image->efficientnet==1.0.0) (1.1.1)\r\n",
      "Requirement already satisfied: six in /opt/conda/lib/python3.7/site-packages (from h5py->keras_applications<=1.0.8,>=1.0.7->efficientnet==1.0.0) (1.14.0)\r\n",
      "Requirement already satisfied: pyparsing!=2.0.4,!=2.1.2,!=2.1.6,>=2.0.1 in /opt/conda/lib/python3.7/site-packages (from matplotlib!=3.0.0,>=2.0.0->scikit-image->efficientnet==1.0.0) (2.4.7)\r\n",
      "Requirement already satisfied: python-dateutil>=2.1 in /opt/conda/lib/python3.7/site-packages (from matplotlib!=3.0.0,>=2.0.0->scikit-image->efficientnet==1.0.0) (2.8.1)\r\n",
      "Requirement already satisfied: kiwisolver>=1.0.1 in /opt/conda/lib/python3.7/site-packages (from matplotlib!=3.0.0,>=2.0.0->scikit-image->efficientnet==1.0.0) (1.2.0)\r\n",
      "Requirement already satisfied: cycler>=0.10 in /opt/conda/lib/python3.7/site-packages (from matplotlib!=3.0.0,>=2.0.0->scikit-image->efficientnet==1.0.0) (0.10.0)\r\n",
      "Requirement already satisfied: decorator>=4.3.0 in /opt/conda/lib/python3.7/site-packages (from networkx>=2.0->scikit-image->efficientnet==1.0.0) (4.4.2)\r\n",
      "Building wheels for collected packages: efficientnet\r\n",
      "  Building wheel for efficientnet (setup.py) ... \u001b[?25l-\b \bdone\r\n",
      "\u001b[?25h  Created wheel for efficientnet: filename=efficientnet-1.0.0-py3-none-any.whl size=13499 sha256=59bbb330279eb8f23752639d8b6b01858c06230171284f983f257050fa9ebd38\r\n",
      "  Stored in directory: /root/.cache/pip/wheels/5e/68/a8/c4d4f4a28fed0b542ba720bceaa67153a386ef03e19fbb3e3e\r\n",
      "Successfully built efficientnet\r\n",
      "Installing collected packages: efficientnet\r\n",
      "Successfully installed efficientnet-1.0.0\r\n",
      "Looking in links: ./\r\n",
      "Processing /kaggle/input/segmentation-models/segmentation_models-1.0.1\r\n",
      "Requirement already satisfied: keras_applications<=1.0.8,>=1.0.7 in /opt/conda/lib/python3.7/site-packages (from segmentation-models==1.0.1) (1.0.8)\r\n",
      "Requirement already satisfied: image-classifiers==1.0.0 in /opt/conda/lib/python3.7/site-packages (from segmentation-models==1.0.1) (1.0.0)\r\n",
      "Requirement already satisfied: efficientnet==1.0.0 in /opt/conda/lib/python3.7/site-packages (from segmentation-models==1.0.1) (1.0.0)\r\n",
      "Requirement already satisfied: h5py in /opt/conda/lib/python3.7/site-packages (from keras_applications<=1.0.8,>=1.0.7->segmentation-models==1.0.1) (2.10.0)\r\n",
      "Requirement already satisfied: numpy>=1.9.1 in /opt/conda/lib/python3.7/site-packages (from keras_applications<=1.0.8,>=1.0.7->segmentation-models==1.0.1) (1.18.5)\r\n",
      "Requirement already satisfied: scikit-image in /opt/conda/lib/python3.7/site-packages (from efficientnet==1.0.0->segmentation-models==1.0.1) (0.16.2)\r\n",
      "Requirement already satisfied: six in /opt/conda/lib/python3.7/site-packages (from h5py->keras_applications<=1.0.8,>=1.0.7->segmentation-models==1.0.1) (1.14.0)\r\n",
      "Requirement already satisfied: scipy>=0.19.0 in /opt/conda/lib/python3.7/site-packages (from scikit-image->efficientnet==1.0.0->segmentation-models==1.0.1) (1.4.1)\r\n",
      "Requirement already satisfied: matplotlib!=3.0.0,>=2.0.0 in /opt/conda/lib/python3.7/site-packages (from scikit-image->efficientnet==1.0.0->segmentation-models==1.0.1) (3.2.1)\r\n",
      "Requirement already satisfied: networkx>=2.0 in /opt/conda/lib/python3.7/site-packages (from scikit-image->efficientnet==1.0.0->segmentation-models==1.0.1) (2.4)\r\n",
      "Requirement already satisfied: pillow>=4.3.0 in /opt/conda/lib/python3.7/site-packages (from scikit-image->efficientnet==1.0.0->segmentation-models==1.0.1) (8.0.1)\r\n",
      "Requirement already satisfied: imageio>=2.3.0 in /opt/conda/lib/python3.7/site-packages (from scikit-image->efficientnet==1.0.0->segmentation-models==1.0.1) (2.8.0)\r\n",
      "Requirement already satisfied: PyWavelets>=0.4.0 in /opt/conda/lib/python3.7/site-packages (from scikit-image->efficientnet==1.0.0->segmentation-models==1.0.1) (1.1.1)\r\n",
      "Requirement already satisfied: kiwisolver>=1.0.1 in /opt/conda/lib/python3.7/site-packages (from matplotlib!=3.0.0,>=2.0.0->scikit-image->efficientnet==1.0.0->segmentation-models==1.0.1) (1.2.0)\r\n",
      "Requirement already satisfied: pyparsing!=2.0.4,!=2.1.2,!=2.1.6,>=2.0.1 in /opt/conda/lib/python3.7/site-packages (from matplotlib!=3.0.0,>=2.0.0->scikit-image->efficientnet==1.0.0->segmentation-models==1.0.1) (2.4.7)\r\n",
      "Requirement already satisfied: cycler>=0.10 in /opt/conda/lib/python3.7/site-packages (from matplotlib!=3.0.0,>=2.0.0->scikit-image->efficientnet==1.0.0->segmentation-models==1.0.1) (0.10.0)\r\n",
      "Requirement already satisfied: python-dateutil>=2.1 in /opt/conda/lib/python3.7/site-packages (from matplotlib!=3.0.0,>=2.0.0->scikit-image->efficientnet==1.0.0->segmentation-models==1.0.1) (2.8.1)\r\n",
      "Requirement already satisfied: decorator>=4.3.0 in /opt/conda/lib/python3.7/site-packages (from networkx>=2.0->scikit-image->efficientnet==1.0.0->segmentation-models==1.0.1) (4.4.2)\r\n",
      "Building wheels for collected packages: segmentation-models\r\n",
      "  Building wheel for segmentation-models (setup.py) ... \u001b[?25l-\b \b\\\b \bdone\r\n",
      "\u001b[?25h  Created wheel for segmentation-models: filename=segmentation_models-1.0.1-py3-none-any.whl size=33590 sha256=a8e1399989361bad2ab4ce10b0a6a34d23df0d38a7ba3ab8c9a7546598179f47\r\n",
      "  Stored in directory: /root/.cache/pip/wheels/d4/08/fd/a3ecdf2d1495e00361549a1525f341dbeb6bad80dbf3fd1c94\r\n",
      "Successfully built segmentation-models\r\n",
      "Installing collected packages: segmentation-models\r\n",
      "Successfully installed segmentation-models-1.0.1\r\n"
     ]
    }
   ],
   "source": [
    "!pip install ../input/keras-applications/Keras_Applications-1.0.8/ -f ./ --no-index\n",
    "!pip install ../input/image-classifiers/image_classifiers-1.0.0/ -f ./ --no-index\n",
    "!pip install ../input/efficientnet-1-0-0/efficientnet-1.0.0/ -f ./ --no-index\n",
    "!pip install ../input/segmentation-models/segmentation_models-1.0.1/ -f ./ --no-index"
   ]
  },
  {
   "cell_type": "code",
   "execution_count": 2,
   "metadata": {
    "execution": {
     "iopub.execute_input": "2021-05-07T11:52:39.675351Z",
     "iopub.status.busy": "2021-05-07T11:52:39.674787Z",
     "iopub.status.idle": "2021-05-07T11:52:39.680616Z",
     "shell.execute_reply": "2021-05-07T11:52:39.680013Z"
    },
    "papermill": {
     "duration": 0.02883,
     "end_time": "2021-05-07T11:52:39.680734",
     "exception": false,
     "start_time": "2021-05-07T11:52:39.651904",
     "status": "completed"
    },
    "tags": []
   },
   "outputs": [
    {
     "name": "stdout",
     "output_type": "stream",
     "text": [
      "env: SM_FRAMEWORK=tf.keras\n"
     ]
    }
   ],
   "source": [
    "%env SM_FRAMEWORK=tf.keras"
   ]
  },
  {
   "cell_type": "code",
   "execution_count": 3,
   "metadata": {
    "_cell_guid": "b1076dfc-b9ad-4769-8c92-a6c4dae69d19",
    "_uuid": "8f2839f25d086af736a60e9eeb907d3b93b6e0e5",
    "execution": {
     "iopub.execute_input": "2021-05-07T11:52:39.729316Z",
     "iopub.status.busy": "2021-05-07T11:52:39.728437Z",
     "iopub.status.idle": "2021-05-07T11:52:48.716568Z",
     "shell.execute_reply": "2021-05-07T11:52:48.715921Z"
    },
    "papermill": {
     "duration": 9.017207,
     "end_time": "2021-05-07T11:52:48.716689",
     "exception": false,
     "start_time": "2021-05-07T11:52:39.699482",
     "status": "completed"
    },
    "tags": []
   },
   "outputs": [
    {
     "name": "stdout",
     "output_type": "stream",
     "text": [
      "Segmentation Models: using `tf.keras` framework.\n",
      "tensorflow version: 2.3.1\n",
      "device available: PhysicalDevice(name='/physical_device:GPU:0', device_type='GPU')\n"
     ]
    }
   ],
   "source": [
    "import warnings\n",
    "warnings.filterwarnings('ignore')\n",
    "import os\n",
    "import gc\n",
    "import cv2\n",
    "import sys\n",
    "import json\n",
    "import time\n",
    "import pickle\n",
    "import shutil\n",
    "import numba\n",
    "import numpy as np\n",
    "import pandas as pd \n",
    "import tifffile as tiff\n",
    "import rasterio\n",
    "from rasterio.windows import Window\n",
    "import tensorflow as tf\n",
    "import tensorflow_addons as tfa\n",
    "import matplotlib.pyplot as plt\n",
    "import tensorflow.keras.backend as K\n",
    "from tensorflow.keras import Model, Sequential\n",
    "from tensorflow.keras.models import load_model\n",
    "from tensorflow.keras.utils import Sequence\n",
    "from tensorflow.keras.losses import binary_crossentropy\n",
    "from tensorflow.keras.layers import *\n",
    "from tensorflow.keras.optimizers import Adam, SGD\n",
    "from tensorflow.keras.callbacks import *\n",
    "import segmentation_models as sm\n",
    "from segmentation_models import Unet, FPN, Linknet\n",
    "from segmentation_models.losses import bce_jaccard_loss\n",
    "from tqdm import tqdm\n",
    "print('tensorflow version:', tf.__version__)\n",
    "os.environ['CUDA_VISIBLE_DEVICES'] = '0'\n",
    "gpu_devices = tf.config.experimental.list_physical_devices('GPU')\n",
    "if gpu_devices:\n",
    "    for gpu_device in gpu_devices:\n",
    "        print('device available:', gpu_device)\n",
    "pd.set_option('display.max_columns', None)"
   ]
  },
  {
   "cell_type": "code",
   "execution_count": 4,
   "metadata": {
    "execution": {
     "iopub.execute_input": "2021-05-07T11:52:48.762174Z",
     "iopub.status.busy": "2021-05-07T11:52:48.761506Z",
     "iopub.status.idle": "2021-05-07T11:52:48.765124Z",
     "shell.execute_reply": "2021-05-07T11:52:48.765545Z"
    },
    "papermill": {
     "duration": 0.029419,
     "end_time": "2021-05-07T11:52:48.765653",
     "exception": false,
     "start_time": "2021-05-07T11:52:48.736234",
     "status": "completed"
    },
    "tags": []
   },
   "outputs": [
    {
     "data": {
      "text/plain": [
       "'../input/fpnb0-0234'"
      ]
     },
     "execution_count": 4,
     "metadata": {},
     "output_type": "execute_result"
    }
   ],
   "source": [
    "'../input/nuetb1-model'\n",
    "'../input/linkb2-model'\n",
    "'../input/fpnb0-0234'"
   ]
  },
  {
   "cell_type": "code",
   "execution_count": 5,
   "metadata": {
    "execution": {
     "iopub.execute_input": "2021-05-07T11:52:48.813239Z",
     "iopub.status.busy": "2021-05-07T11:52:48.812733Z",
     "iopub.status.idle": "2021-05-07T11:52:48.821779Z",
     "shell.execute_reply": "2021-05-07T11:52:48.822903Z"
    },
    "papermill": {
     "duration": 0.037762,
     "end_time": "2021-05-07T11:52:48.823004",
     "exception": false,
     "start_time": "2021-05-07T11:52:48.785242",
     "status": "completed"
    },
    "tags": []
   },
   "outputs": [],
   "source": [
    "TEST = True\n",
    "KAGGLE = True\n",
    "MDLS_FOLDS = {'nuetb1-model':[0,4], 'fpnb0-0234':[0]}\n",
    "if KAGGLE:\n",
    "    DATA_PATH = '../input/hubmap-kidney-segmentation'\n",
    "    MDLS_PATHS = {ver: f'../input/{ver}' \n",
    "                  for ver, _ in MDLS_FOLDS.items()}\n",
    "else:\n",
    "    DATA_PATH = './data2'\n",
    "    MDLS_PATHS = {ver: f'./models_{ver}' \n",
    "                  for ver, _ in MDLS_FOLDS.items()}\n",
    "THRESHOLD = .4\n",
    "VOTERS = 1\n",
    "TTAS = [0, 1, 2]\n",
    "EXPAND = 4\n",
    "MIN_OVERLAP = 1 / 16\n",
    "IDNT = rasterio.Affine(1, 0, 0, 0, 1, 0)\n",
    "STRATEGY = tf.distribute.get_strategy() \n",
    "SUB_PATH = f'{DATA_PATH}/test' if TEST else f'{DATA_PATH}/train'\n",
    "\n",
    "start_time = time.time()"
   ]
  },
  {
   "cell_type": "code",
   "execution_count": 6,
   "metadata": {
    "execution": {
     "iopub.execute_input": "2021-05-07T11:52:48.875494Z",
     "iopub.status.busy": "2021-05-07T11:52:48.874900Z",
     "iopub.status.idle": "2021-05-07T11:52:48.907015Z",
     "shell.execute_reply": "2021-05-07T11:52:48.906421Z"
    },
    "papermill": {
     "duration": 0.057389,
     "end_time": "2021-05-07T11:52:48.907142",
     "exception": false,
     "start_time": "2021-05-07T11:52:48.849753",
     "status": "completed"
    },
    "tags": []
   },
   "outputs": [
    {
     "name": "stdout",
     "output_type": "stream",
     "text": [
      "version: nuetb1-model | loaded params: {'nuetb1-model': {'version': 'version274', 'folds': 5, 'img_size': 256, 'resize': 4, 'batch_size': 24, 'epochs': 115, 'patience': 20, 'decay': False, 'backbone': 'efficientnetb1', 'bce_weight': 1, 'loss': 'bce_jaccard_loss', 'seed': 234234, 'split': 'kfold', 'mirror': False, 'aughard': True, 'umodel': 'unet', 'pseudo': False, 'lr': 0.0005, 'shift': True, 'external': 'ext', 'comments': 'new data'}, 'fpnb0-0234': {'version': 'version274', 'folds': 5, 'img_size': 256, 'resize': 4, 'batch_size': 24, 'epochs': 115, 'patience': 20, 'decay': False, 'backbone': 'efficientnetb0', 'bce_weight': 1, 'loss': 'bce_jaccard_loss', 'seed': 234234, 'split': 'kfold', 'mirror': False, 'aughard': True, 'umodel': 'fpn', 'pseudo': False, 'lr': 0.0005, 'shift': True, 'external': 'ext', 'comments': 'new data'}} \n",
      "\n",
      "version: fpnb0-0234 | loaded params: {'nuetb1-model': {'version': 'version274', 'folds': 5, 'img_size': 256, 'resize': 4, 'batch_size': 24, 'epochs': 115, 'patience': 20, 'decay': False, 'backbone': 'efficientnetb1', 'bce_weight': 1, 'loss': 'bce_jaccard_loss', 'seed': 234234, 'split': 'kfold', 'mirror': False, 'aughard': True, 'umodel': 'unet', 'pseudo': False, 'lr': 0.0005, 'shift': True, 'external': 'ext', 'comments': 'new data'}, 'fpnb0-0234': {'version': 'version274', 'folds': 5, 'img_size': 256, 'resize': 4, 'batch_size': 24, 'epochs': 115, 'patience': 20, 'decay': False, 'backbone': 'efficientnetb0', 'bce_weight': 1, 'loss': 'bce_jaccard_loss', 'seed': 234234, 'split': 'kfold', 'mirror': False, 'aughard': True, 'umodel': 'fpn', 'pseudo': False, 'lr': 0.0005, 'shift': True, 'external': 'ext', 'comments': 'new data'}} \n",
      "\n"
     ]
    }
   ],
   "source": [
    "params_dict = {}\n",
    "for ver, _ in MDLS_FOLDS.items():\n",
    "    with open(f'{MDLS_PATHS[ver]}/params.json') as file:\n",
    "        params_dict[ver] = json.load(file)\n",
    "for ver, params in params_dict.items():\n",
    "    print('version:', ver, '| loaded params:', params_dict, '\\n')"
   ]
  },
  {
   "cell_type": "code",
   "execution_count": 7,
   "metadata": {
    "execution": {
     "iopub.execute_input": "2021-05-07T11:52:48.958463Z",
     "iopub.status.busy": "2021-05-07T11:52:48.957757Z",
     "iopub.status.idle": "2021-05-07T11:52:48.960184Z",
     "shell.execute_reply": "2021-05-07T11:52:48.960624Z"
    },
    "papermill": {
     "duration": 0.03264,
     "end_time": "2021-05-07T11:52:48.960720",
     "exception": false,
     "start_time": "2021-05-07T11:52:48.928080",
     "status": "completed"
    },
    "tags": []
   },
   "outputs": [],
   "source": [
    "def enc2mask(encs, shape):\n",
    "    img = np.zeros(shape[0] * shape[1], dtype=np.uint8)\n",
    "    for m, enc in enumerate(encs):\n",
    "        if isinstance(enc, np.float) and np.isnan(enc): continue\n",
    "        s = enc.split()\n",
    "        for i in range(len(s) // 2):\n",
    "            start = int(s[2 * i]) - 1\n",
    "            length = int(s[2 * i + 1])\n",
    "            img[start : start + length] = 1 + m\n",
    "    return img.reshape(shape).T\n",
    "\n",
    "def rle_encode_less_memory(img):\n",
    "    pixels = img.T.flatten()\n",
    "    pixels[0] = 0\n",
    "    pixels[-1] = 0\n",
    "    runs = np.where(pixels[1:] != pixels[:-1])[0] + 2\n",
    "    runs[1::2] -= runs[::2]\n",
    "    return ' '.join(str(x) for x in runs)"
   ]
  },
  {
   "cell_type": "code",
   "execution_count": 8,
   "metadata": {
    "execution": {
     "iopub.execute_input": "2021-05-07T11:52:49.017929Z",
     "iopub.status.busy": "2021-05-07T11:52:49.013734Z",
     "iopub.status.idle": "2021-05-07T11:52:49.020098Z",
     "shell.execute_reply": "2021-05-07T11:52:49.020539Z"
    },
    "papermill": {
     "duration": 0.039601,
     "end_time": "2021-05-07T11:52:49.020644",
     "exception": false,
     "start_time": "2021-05-07T11:52:48.981043",
     "status": "completed"
    },
    "tags": []
   },
   "outputs": [],
   "source": [
    "def dice_coef(y_true, y_pred, smooth=1):\n",
    "    y_true_f = K.flatten(y_true)\n",
    "    y_pred_f = K.flatten(y_pred)\n",
    "    intersection = K.sum(y_true_f * y_pred_f)\n",
    "    return (2 * intersection + smooth) / (K.sum(y_true_f) + K.sum(y_pred_f) + smooth)\n",
    "\n",
    "def dice_loss(y_true, y_pred, smooth=1):\n",
    "    return (1 - dice_coef(y_true, y_pred, smooth))\n",
    "\n",
    "def bce_dice_loss(y_true, y_pred):\n",
    "    return params['bce_weight'] * binary_crossentropy(y_true, y_pred) + \\\n",
    "        (1 - params['bce_weight']) * dice_loss(y_true, y_pred)\n",
    "EFF = '../input/efficientnetb0b7-keras-weights'\n",
    "def get_model(backbone, input_shape, path, \n",
    "              loss_type='bce_dice', umodel='unet', \n",
    "              classes=1, lr=.001):\n",
    "    path = EFF\n",
    "    if backbone == 'efficientnetb0':\n",
    "        weights = f'{path}/efficientnet-b0_weights_tf_dim_ordering_tf_kernels_autoaugment_notop.h5'\n",
    "    elif backbone == 'efficientnetb1':\n",
    "        weights = f'{path}/efficientnet-b1_weights_tf_dim_ordering_tf_kernels_autoaugment_notop.h5'\n",
    "    elif backbone == 'efficientnetb2':\n",
    "        weights = f'{path}/efficientnet-b2_weights_tf_dim_ordering_tf_kernels_autoaugment_notop.h5'\n",
    "    elif backbone == 'efficientnetb3':\n",
    "        weights = f'{path}/efficientnet-b3_weights_tf_dim_ordering_tf_kernels_autoaugment_notop.h5'\n",
    "    elif backbone == 'resnet34':\n",
    "        weights = f'{path}/resnet34_imagenet_1000_no_top.h5'\n",
    "    else:\n",
    "        raise AttributeError('mode parameter error')\n",
    "    with STRATEGY.scope():\n",
    "        if loss_type == 'bce_dice': \n",
    "            loss = bce_dice_loss\n",
    "        elif loss_type == 'bce_jaccard_loss':\n",
    "            loss = bce_jaccard_loss\n",
    "        else:\n",
    "            raise AttributeError('loss mode parameter error')\n",
    "        if umodel == 'unet':\n",
    "            model = Unet(backbone_name=backbone, encoder_weights=weights,\n",
    "                         input_shape=input_shape,\n",
    "                         classes=classes, activation='sigmoid')\n",
    "        elif umodel == 'fpn':\n",
    "            model = FPN(backbone_name=backbone, encoder_weights=weights,\n",
    "                        input_shape=input_shape,\n",
    "                        classes=classes, activation='sigmoid')\n",
    "        elif umodel == 'link':\n",
    "            model = Linknet(backbone_name=backbone, encoder_weights=weights,\n",
    "                            input_shape=input_shape,\n",
    "                            classes=classes, activation='sigmoid')\n",
    "        else:\n",
    "            raise AttributeError('umodel mode parameter error')\n",
    "        model.compile(\n",
    "            optimizer=tfa.optimizers.Lookahead(\n",
    "                tf.keras.optimizers.Adam(learning_rate=lr)\n",
    "            ),\n",
    "            loss=loss, \n",
    "            metrics=[dice_coef]\n",
    "        )\n",
    "    return model"
   ]
  },
  {
   "cell_type": "code",
   "execution_count": 9,
   "metadata": {
    "execution": {
     "iopub.execute_input": "2021-05-07T11:52:49.074100Z",
     "iopub.status.busy": "2021-05-07T11:52:49.073358Z",
     "iopub.status.idle": "2021-05-07T11:52:49.076239Z",
     "shell.execute_reply": "2021-05-07T11:52:49.075818Z"
    },
    "papermill": {
     "duration": 0.035278,
     "end_time": "2021-05-07T11:52:49.076327",
     "exception": false,
     "start_time": "2021-05-07T11:52:49.041049",
     "status": "completed"
    },
    "tags": []
   },
   "outputs": [],
   "source": [
    "def make_grid(shape, window=256, min_overlap=32):\n",
    "    x, y = shape\n",
    "    nx = x // (window - min_overlap) + 1\n",
    "    x1 = np.linspace(0, x, num=nx, endpoint=False, dtype=np.int64)\n",
    "    x1[-1] = x - window\n",
    "    x2 = (x1 + window).clip(0, x)\n",
    "    ny = y // (window - min_overlap) + 1\n",
    "    y1 = np.linspace(0, y, num=ny, endpoint=False, dtype=np.int64)\n",
    "    y1[-1] = y - window\n",
    "    y2 = (y1 + window).clip(0, y)\n",
    "    slices = np.zeros((nx, ny, 4), dtype=np.int64) \n",
    "    for i in range(nx):\n",
    "        for j in range(ny):\n",
    "            slices[i, j] = x1[i], x2[i], y1[j], y2[j]    \n",
    "    return slices.reshape(nx * ny, 4)\n",
    "\n",
    "def flip(img, axis=0):\n",
    "    if axis == 1:\n",
    "        return img[::-1, :, ]\n",
    "    elif axis == 2:\n",
    "        return img[:, ::-1, ]\n",
    "    elif axis == 3:\n",
    "        return img[::-1, ::-1, ]\n",
    "    else:\n",
    "        return img"
   ]
  },
  {
   "cell_type": "code",
   "execution_count": 10,
   "metadata": {
    "execution": {
     "iopub.execute_input": "2021-05-07T11:52:49.121250Z",
     "iopub.status.busy": "2021-05-07T11:52:49.120724Z",
     "iopub.status.idle": "2021-05-07T11:52:49.149614Z",
     "shell.execute_reply": "2021-05-07T11:52:49.149125Z"
    },
    "papermill": {
     "duration": 0.053073,
     "end_time": "2021-05-07T11:52:49.149699",
     "exception": false,
     "start_time": "2021-05-07T11:52:49.096626",
     "status": "completed"
    },
    "tags": []
   },
   "outputs": [
    {
     "name": "stdout",
     "output_type": "stream",
     "text": [
      "images idxs: ['aa05346ff.tiff', '2ec3f1bb9.tiff', '3589adb90.tiff', 'd488c759a.tiff', '57512b7f1.tiff']\n"
     ]
    }
   ],
   "source": [
    "img_files = [x for x in os.listdir(SUB_PATH) if '.tiff' in x]\n",
    "print('images idxs:', img_files)"
   ]
  },
  {
   "cell_type": "code",
   "execution_count": 11,
   "metadata": {
    "execution": {
     "iopub.execute_input": "2021-05-07T11:52:49.296324Z",
     "iopub.status.busy": "2021-05-07T11:52:49.204814Z",
     "iopub.status.idle": "2021-05-07T12:07:33.415451Z",
     "shell.execute_reply": "2021-05-07T12:07:33.415891Z"
    },
    "papermill": {
     "duration": 884.244897,
     "end_time": "2021-05-07T12:07:33.416012",
     "exception": false,
     "start_time": "2021-05-07T11:52:49.171115",
     "status": "completed"
    },
    "tags": []
   },
   "outputs": [
    {
     "name": "stdout",
     "output_type": "stream",
     "text": [
      "-------------------- aa05346ff.tiff --------------------\n",
      "img shape: (30720, 47340)\n",
      "img file with subdatasets as channels\n",
      "ver: nuetb1-model | model loaded: ../input/nuetb1-model/model_0.hdf5\n",
      "ver: nuetb1-model | model loaded: ../input/nuetb1-model/model_4.hdf5\n"
     ]
    },
    {
     "name": "stderr",
     "output_type": "stream",
     "text": [
      "aa05346ff.tiff:   0%|          | 0/117 [00:00<?, ?it/s]"
     ]
    },
    {
     "name": "stdout",
     "output_type": "stream",
     "text": [
      "ver: fpnb0-0234 | model loaded: ../input/fpnb0-0234/model_0.hdf5\n"
     ]
    },
    {
     "name": "stderr",
     "output_type": "stream",
     "text": [
      "aa05346ff.tiff: 100%|██████████| 117/117 [03:09<00:00,  1.62s/it]\n"
     ]
    },
    {
     "name": "stdout",
     "output_type": "stream",
     "text": [
      "img max: 4 | voters: 1\n",
      "-------------------- 2ec3f1bb9.tiff --------------------\n",
      "img shape: (23990, 47723)\n",
      "ver: nuetb1-model | model loaded: ../input/nuetb1-model/model_0.hdf5\n",
      "ver: nuetb1-model | model loaded: ../input/nuetb1-model/model_4.hdf5\n"
     ]
    },
    {
     "name": "stderr",
     "output_type": "stream",
     "text": [
      "2ec3f1bb9.tiff:   0%|          | 0/91 [00:00<?, ?it/s]"
     ]
    },
    {
     "name": "stdout",
     "output_type": "stream",
     "text": [
      "ver: fpnb0-0234 | model loaded: ../input/fpnb0-0234/model_0.hdf5\n"
     ]
    },
    {
     "name": "stderr",
     "output_type": "stream",
     "text": [
      "2ec3f1bb9.tiff: 100%|██████████| 91/91 [02:29<00:00,  1.64s/it]\n"
     ]
    },
    {
     "name": "stdout",
     "output_type": "stream",
     "text": [
      "img max: 4 | voters: 1\n",
      "-------------------- 3589adb90.tiff --------------------\n",
      "img shape: (29433, 22165)\n",
      "ver: nuetb1-model | model loaded: ../input/nuetb1-model/model_0.hdf5\n",
      "ver: nuetb1-model | model loaded: ../input/nuetb1-model/model_4.hdf5\n"
     ]
    },
    {
     "name": "stderr",
     "output_type": "stream",
     "text": [
      "3589adb90.tiff:   0%|          | 0/48 [00:00<?, ?it/s]"
     ]
    },
    {
     "name": "stdout",
     "output_type": "stream",
     "text": [
      "ver: fpnb0-0234 | model loaded: ../input/fpnb0-0234/model_0.hdf5\n"
     ]
    },
    {
     "name": "stderr",
     "output_type": "stream",
     "text": [
      "3589adb90.tiff: 100%|██████████| 48/48 [01:20<00:00,  1.68s/it]\n"
     ]
    },
    {
     "name": "stdout",
     "output_type": "stream",
     "text": [
      "img max: 4 | voters: 1\n",
      "-------------------- d488c759a.tiff --------------------\n",
      "img shape: (46660, 29020)\n",
      "img file with subdatasets as channels\n",
      "ver: nuetb1-model | model loaded: ../input/nuetb1-model/model_0.hdf5\n",
      "ver: nuetb1-model | model loaded: ../input/nuetb1-model/model_4.hdf5\n"
     ]
    },
    {
     "name": "stderr",
     "output_type": "stream",
     "text": [
      "d488c759a.tiff:   0%|          | 0/104 [00:00<?, ?it/s]"
     ]
    },
    {
     "name": "stdout",
     "output_type": "stream",
     "text": [
      "ver: fpnb0-0234 | model loaded: ../input/fpnb0-0234/model_0.hdf5\n"
     ]
    },
    {
     "name": "stderr",
     "output_type": "stream",
     "text": [
      "d488c759a.tiff: 100%|██████████| 104/104 [02:46<00:00,  1.60s/it]\n"
     ]
    },
    {
     "name": "stdout",
     "output_type": "stream",
     "text": [
      "img max: 4 | voters: 1\n",
      "-------------------- 57512b7f1.tiff --------------------\n",
      "img shape: (33240, 43160)\n",
      "img file with subdatasets as channels\n",
      "ver: nuetb1-model | model loaded: ../input/nuetb1-model/model_0.hdf5\n",
      "ver: nuetb1-model | model loaded: ../input/nuetb1-model/model_4.hdf5\n"
     ]
    },
    {
     "name": "stderr",
     "output_type": "stream",
     "text": [
      "57512b7f1.tiff:   0%|          | 0/108 [00:00<?, ?it/s]"
     ]
    },
    {
     "name": "stdout",
     "output_type": "stream",
     "text": [
      "ver: fpnb0-0234 | model loaded: ../input/fpnb0-0234/model_0.hdf5\n"
     ]
    },
    {
     "name": "stderr",
     "output_type": "stream",
     "text": [
      "57512b7f1.tiff: 100%|██████████| 108/108 [02:45<00:00,  1.53s/it]\n"
     ]
    },
    {
     "name": "stdout",
     "output_type": "stream",
     "text": [
      "img max: 4 | voters: 1\n",
      "time elapsed: 14 min 44 sec\n"
     ]
    }
   ],
   "source": [
    "subm = {}\n",
    "for i_img, img_file in enumerate(img_files):\n",
    "    THR = 0.2 if 'd488c759a' in img_file else THRESHOLD\n",
    "    print('-' * 20, img_file, '-' * 20)\n",
    "    img_data = rasterio.open(os.path.join(SUB_PATH, img_file), transform=IDNT)\n",
    "    print('img shape:', img_data.shape)\n",
    "    if img_data.count != 3:\n",
    "        print('img file with subdatasets as channels')\n",
    "        layers = [rasterio.open(subd) for subd in img_data.subdatasets]\n",
    "    img_preds = np.zeros(img_data.shape, dtype=np.uint8)\n",
    "    tile_size = int(params['img_size'] * EXPAND)\n",
    "    tile_resized = int(tile_size * params['resize'])\n",
    "    slices = make_grid(\n",
    "        img_data.shape, \n",
    "        window=tile_resized, \n",
    "        min_overlap=int(tile_resized * MIN_OVERLAP)\n",
    "    )\n",
    "    models = []\n",
    "    for ver, folds in MDLS_FOLDS.items():\n",
    "        for n_fold in folds:\n",
    "            checkpoint_path = f'{MDLS_PATHS[ver]}/model_{n_fold}.hdf5'\n",
    "            model = get_model(\n",
    "                params_dict[ver]['backbone'], \n",
    "                input_shape=(tile_size, tile_size, 3),\n",
    "                path=MDLS_PATHS[ver],\n",
    "                loss_type=params_dict[ver]['loss'],\n",
    "                umodel=params_dict[ver]['umodel']\n",
    "            )\n",
    "            model.load_weights(checkpoint_path)\n",
    "            models.append(model)\n",
    "            print('ver:', ver, '| model loaded:', checkpoint_path)\n",
    "    for (x1, x2, y1, y2) in tqdm(slices, desc=f'{img_file}'):\n",
    "        if img_data.count == 3: # normal\n",
    "            img = img_data.read(\n",
    "                [1, 2, 3], \n",
    "                window=Window.from_slices((x1, x2), (y1, y2))\n",
    "            )\n",
    "            img = np.moveaxis(img, 0, -1)\n",
    "        else: # with subdatasets/layers\n",
    "            img = np.zeros((tile_resized, tile_resized, 3), dtype=np.uint8)\n",
    "            for fl in range(3):\n",
    "                img[:, :, fl] = layers[fl].read(\n",
    "                    window=Window.from_slices((x1, x2), (y1, y2))\n",
    "                )\n",
    "        img = cv2.resize(img, (tile_size, tile_size))\n",
    "        img = cv2.cvtColor(img, cv2.COLOR_RGB2BGR)\n",
    "        pred = np.zeros((tile_size, tile_size), dtype=np.float32)\n",
    "        for tta_mode in TTAS:\n",
    "            img_aug = flip(img, axis=tta_mode)\n",
    "            img_aug = np.expand_dims(img_aug, 0)\n",
    "            img_aug = img_aug.astype(np.float32) / 255\n",
    "            for model in models:\n",
    "                pred_aug = np.squeeze(model.predict(img_aug))\n",
    "                pred += flip(pred_aug, axis=tta_mode)\n",
    "        pred /= (len(models) * len(TTAS))\n",
    "        pred = cv2.resize(pred, (tile_resized, tile_resized))\n",
    "        img_preds[x1:x2, y1:y2] = img_preds[x1:x2, y1:y2] + \\\n",
    "            (pred > THR).astype(np.uint8)\n",
    "    del model, models, img, pred, img_aug, pred_aug; gc.collect()\n",
    "    print('img max:', np.max(img_preds), '| voters:', VOTERS)\n",
    "    img_preds = (img_preds >= VOTERS).astype(np.uint8)\n",
    "    rle_pred = rle_encode_less_memory(img_preds)\n",
    "    subm[i_img] = {'id':img_file.replace('.tiff', ''), 'predicted': rle_pred}\n",
    "    del img_preds, img_data, rle_pred; gc.collect()\n",
    "\n",
    "elapsed_time = time.time() - start_time\n",
    "print(f'time elapsed: {elapsed_time // 60:.0f} min {elapsed_time % 60:.0f} sec')"
   ]
  },
  {
   "cell_type": "code",
   "execution_count": 12,
   "metadata": {
    "execution": {
     "iopub.execute_input": "2021-05-07T12:07:33.785094Z",
     "iopub.status.busy": "2021-05-07T12:07:33.784485Z",
     "iopub.status.idle": "2021-05-07T12:07:33.804721Z",
     "shell.execute_reply": "2021-05-07T12:07:33.804261Z"
    },
    "papermill": {
     "duration": 0.228154,
     "end_time": "2021-05-07T12:07:33.804817",
     "exception": false,
     "start_time": "2021-05-07T12:07:33.576663",
     "status": "completed"
    },
    "tags": []
   },
   "outputs": [
    {
     "data": {
      "text/html": [
       "<div>\n",
       "<style scoped>\n",
       "    .dataframe tbody tr th:only-of-type {\n",
       "        vertical-align: middle;\n",
       "    }\n",
       "\n",
       "    .dataframe tbody tr th {\n",
       "        vertical-align: top;\n",
       "    }\n",
       "\n",
       "    .dataframe thead th {\n",
       "        text-align: right;\n",
       "    }\n",
       "</style>\n",
       "<table border=\"1\" class=\"dataframe\">\n",
       "  <thead>\n",
       "    <tr style=\"text-align: right;\">\n",
       "      <th></th>\n",
       "      <th>id</th>\n",
       "      <th>predicted</th>\n",
       "    </tr>\n",
       "  </thead>\n",
       "  <tbody>\n",
       "    <tr>\n",
       "      <th>0</th>\n",
       "      <td>aa05346ff</td>\n",
       "      <td>52856695 19 52887409 31 52918126 37 52948837 5...</td>\n",
       "    </tr>\n",
       "    <tr>\n",
       "      <th>1</th>\n",
       "      <td>2ec3f1bb9</td>\n",
       "      <td>60690334 11 60714318 22 60738300 36 60762280 5...</td>\n",
       "    </tr>\n",
       "    <tr>\n",
       "      <th>2</th>\n",
       "      <td>3589adb90</td>\n",
       "      <td>68600124 15 68629529 56 68658950 73 68688381 7...</td>\n",
       "    </tr>\n",
       "    <tr>\n",
       "      <th>3</th>\n",
       "      <td>d488c759a</td>\n",
       "      <td>534483952 12 534530598 48 534577249 64 5346238...</td>\n",
       "    </tr>\n",
       "    <tr>\n",
       "      <th>4</th>\n",
       "      <td>57512b7f1</td>\n",
       "      <td>328985799 19 329019036 26 329052274 30 3290855...</td>\n",
       "    </tr>\n",
       "  </tbody>\n",
       "</table>\n",
       "</div>"
      ],
      "text/plain": [
       "          id                                          predicted\n",
       "0  aa05346ff  52856695 19 52887409 31 52918126 37 52948837 5...\n",
       "1  2ec3f1bb9  60690334 11 60714318 22 60738300 36 60762280 5...\n",
       "2  3589adb90  68600124 15 68629529 56 68658950 73 68688381 7...\n",
       "3  d488c759a  534483952 12 534530598 48 534577249 64 5346238...\n",
       "4  57512b7f1  328985799 19 329019036 26 329052274 30 3290855..."
      ]
     },
     "execution_count": 12,
     "metadata": {},
     "output_type": "execute_result"
    }
   ],
   "source": [
    "df_sub = pd.DataFrame(subm).T\n",
    "df_sub"
   ]
  },
  {
   "cell_type": "code",
   "execution_count": 13,
   "metadata": {
    "execution": {
     "iopub.execute_input": "2021-05-07T12:07:34.131618Z",
     "iopub.status.busy": "2021-05-07T12:07:34.131014Z",
     "iopub.status.idle": "2021-05-07T12:07:34.761993Z",
     "shell.execute_reply": "2021-05-07T12:07:34.762796Z"
    },
    "papermill": {
     "duration": 0.797133,
     "end_time": "2021-05-07T12:07:34.762929",
     "exception": false,
     "start_time": "2021-05-07T12:07:33.965796",
     "status": "completed"
    },
    "tags": []
   },
   "outputs": [],
   "source": [
    "df_sub.to_csv('submission.csv', index=False)"
   ]
  },
  {
   "cell_type": "code",
   "execution_count": null,
   "metadata": {
    "papermill": {
     "duration": 0.16111,
     "end_time": "2021-05-07T12:07:35.143151",
     "exception": false,
     "start_time": "2021-05-07T12:07:34.982041",
     "status": "completed"
    },
    "tags": []
   },
   "outputs": [],
   "source": []
  }
 ],
 "metadata": {
  "kernelspec": {
   "display_name": "Python 3",
   "language": "python",
   "name": "python3"
  },
  "language_info": {
   "codemirror_mode": {
    "name": "ipython",
    "version": 3
   },
   "file_extension": ".py",
   "mimetype": "text/x-python",
   "name": "python",
   "nbconvert_exporter": "python",
   "pygments_lexer": "ipython3",
   "version": "3.7.6"
  },
  "papermill": {
   "duration": 934.123065,
   "end_time": "2021-05-07T12:07:36.626431",
   "environment_variables": {},
   "exception": null,
   "input_path": "__notebook__.ipynb",
   "output_path": "__notebook__.ipynb",
   "parameters": {},
   "start_time": "2021-05-07T11:52:02.503366",
   "version": "2.1.0"
  }
 },
 "nbformat": 4,
 "nbformat_minor": 4
}
